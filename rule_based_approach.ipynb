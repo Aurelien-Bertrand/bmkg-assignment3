{
 "cells": [
  {
   "cell_type": "code",
   "execution_count": 3,
   "id": "initial_id",
   "metadata": {
    "collapsed": true,
    "ExecuteTime": {
     "end_time": "2024-03-24T12:45:42.643164Z",
     "start_time": "2024-03-24T12:45:42.637141Z"
    }
   },
   "outputs": [
    {
     "name": "stdout",
     "output_type": "stream",
     "text": [
      "Relation path: [('Barack Obama', 'Harvard University'), ('Harvard University', 'Jill Biden')]\n"
     ]
    }
   ],
   "source": [
    "import networkx as nx\n",
    "\n",
    "# Define a subset of Wikidata as a simple graph for demonstration\n",
    "wikidata_graph = nx.Graph()\n",
    "wikidata_graph.add_nodes_from([\"Barack Obama\", \"Michelle Obama\", \"Joe Biden\", \"Jill Biden\", \"Harvard University\"])  \n",
    "wikidata_graph.add_edges_from([(\"Barack Obama\", \"Michelle Obama\"), (\"Joe Biden\", \"Jill Biden\"), (\"Barack Obama\", \"Harvard University\"),(\"Michelle Obama\", \"Joe Biden\"), (\"Jill Biden\", \"Harvard University\")])\n",
    "\n",
    "# Function to perform multi-hop reasoning using graph traversal\n",
    "def multi_hop_reasoning(query_entity, target_relation, max_hops=5):\n",
    "    visited = set()\n",
    "    queue = [(query_entity, [])]  # Start with the query entity and an empty relation path\n",
    "    while queue:\n",
    "        entity, relation_path = queue.pop(0)\n",
    "        if entity == target_relation:\n",
    "            return relation_path\n",
    "        if entity not in visited:\n",
    "            visited.add(entity)\n",
    "            for neighbor in wikidata_graph.neighbors(entity):\n",
    "                new_path = relation_path + [(entity, neighbor)]\n",
    "                queue.append((neighbor, new_path))\n",
    "    \n",
    "    return None\n",
    "\n",
    "# Example query\n",
    "query_entity = \"Barack Obama\"\n",
    "target_relation = \"Jill Biden\"\n",
    "result = multi_hop_reasoning(query_entity, target_relation)\n",
    "if result:\n",
    "    print(\"Relation path:\", result)\n",
    "else:\n",
    "    print(\"No relation path found between the entities.\")"
   ]
  }
 ],
 "metadata": {
  "kernelspec": {
   "display_name": "Python 3",
   "language": "python",
   "name": "python3"
  },
  "language_info": {
   "codemirror_mode": {
    "name": "ipython",
    "version": 2
   },
   "file_extension": ".py",
   "mimetype": "text/x-python",
   "name": "python",
   "nbconvert_exporter": "python",
   "pygments_lexer": "ipython2",
   "version": "2.7.6"
  }
 },
 "nbformat": 4,
 "nbformat_minor": 5
}

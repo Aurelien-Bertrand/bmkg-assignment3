{
 "cells": [
  {
   "cell_type": "code",
   "execution_count": 1,
   "outputs": [],
   "source": [
    "import rdflib\n",
    "import networkx as nx\n",
    "from rdflib.extras.external_graph_libs import rdflib_to_networkx_digraph\n",
    "from rdflib.extras.external_graph_libs import rdflib_to_networkx_multidigraph"
   ],
   "metadata": {
    "collapsed": false,
    "ExecuteTime": {
     "end_time": "2024-03-26T15:50:27.251332100Z",
     "start_time": "2024-03-26T15:50:26.288682200Z"
    }
   },
   "id": "1134484aeab78ca4"
  },
  {
   "cell_type": "code",
   "execution_count": 2,
   "id": "initial_id",
   "metadata": {
    "collapsed": true,
    "ExecuteTime": {
     "end_time": "2024-03-26T15:50:27.330351800Z",
     "start_time": "2024-03-26T15:50:27.263478900Z"
    }
   },
   "outputs": [
    {
     "data": {
      "text/plain": "<Graph identifier=Nb692db31dc60482c84ca177e19237aac (<class 'rdflib.graph.Graph'>)>"
     },
     "execution_count": 2,
     "metadata": {},
     "output_type": "execute_result"
    }
   ],
   "source": [
    "g = rdflib.Graph()\n",
    "g.parse('graph_from_data_sources_small.ttl', format='ttl')"
   ]
  },
  {
   "cell_type": "code",
   "execution_count": 3,
   "outputs": [],
   "source": [
    "mdg = rdflib_to_networkx_multidigraph(g)\n",
    "dg = rdflib_to_networkx_digraph(g)"
   ],
   "metadata": {
    "collapsed": false,
    "ExecuteTime": {
     "end_time": "2024-03-26T15:50:27.414833400Z",
     "start_time": "2024-03-26T15:50:27.336011Z"
    }
   },
   "id": "15e60f41f25a2fab"
  },
  {
   "cell_type": "code",
   "execution_count": 4,
   "outputs": [
    {
     "name": "stdout",
     "output_type": "stream",
     "text": [
      "331\n"
     ]
    }
   ],
   "source": [
    "# amout of nodes\n",
    "print(len(dg.nodes()))"
   ],
   "metadata": {
    "collapsed": false,
    "ExecuteTime": {
     "end_time": "2024-03-26T15:50:27.444308900Z",
     "start_time": "2024-03-26T15:50:27.363131700Z"
    }
   },
   "id": "8a740a2a0bd28670"
  },
  {
   "cell_type": "code",
   "execution_count": 5,
   "outputs": [
    {
     "name": "stdout",
     "output_type": "stream",
     "text": [
      "363\n"
     ]
    }
   ],
   "source": [
    "# amount of edges\n",
    "print(len(dg.edges()))"
   ],
   "metadata": {
    "collapsed": false,
    "ExecuteTime": {
     "end_time": "2024-03-26T15:50:27.446825200Z",
     "start_time": "2024-03-26T15:50:27.380350100Z"
    }
   },
   "id": "fbfd3a6abf28a5b2"
  },
  {
   "cell_type": "code",
   "execution_count": 6,
   "outputs": [
    {
     "data": {
      "text/plain": "                                                     0   1\n0    https://w3id.org/climatechangekg/Korea%2C%20Re...  {}\n1                                                   KR  {}\n2               https://w3id.org/climatechangekg/Italy  {}\n3        https://w3id.org/climatechangekg/San%20Marino  {}\n4    https://w3id.org/climatechangekg/French%20Poly...  {}\n..                                                 ...  ..\n326          https://w3id.org/climatechangekg/Pakistan  {}\n327           https://w3id.org/climatechangekg/Lesotho  {}\n328                                                 MS  {}\n329                                                 ES  {}\n330                                            Belgium  {}\n\n[331 rows x 2 columns]",
      "text/html": "<div>\n<style scoped>\n    .dataframe tbody tr th:only-of-type {\n        vertical-align: middle;\n    }\n\n    .dataframe tbody tr th {\n        vertical-align: top;\n    }\n\n    .dataframe thead th {\n        text-align: right;\n    }\n</style>\n<table border=\"1\" class=\"dataframe\">\n  <thead>\n    <tr style=\"text-align: right;\">\n      <th></th>\n      <th>0</th>\n      <th>1</th>\n    </tr>\n  </thead>\n  <tbody>\n    <tr>\n      <th>0</th>\n      <td>https://w3id.org/climatechangekg/Korea%2C%20Re...</td>\n      <td>{}</td>\n    </tr>\n    <tr>\n      <th>1</th>\n      <td>KR</td>\n      <td>{}</td>\n    </tr>\n    <tr>\n      <th>2</th>\n      <td>https://w3id.org/climatechangekg/Italy</td>\n      <td>{}</td>\n    </tr>\n    <tr>\n      <th>3</th>\n      <td>https://w3id.org/climatechangekg/San%20Marino</td>\n      <td>{}</td>\n    </tr>\n    <tr>\n      <th>4</th>\n      <td>https://w3id.org/climatechangekg/French%20Poly...</td>\n      <td>{}</td>\n    </tr>\n    <tr>\n      <th>...</th>\n      <td>...</td>\n      <td>...</td>\n    </tr>\n    <tr>\n      <th>326</th>\n      <td>https://w3id.org/climatechangekg/Pakistan</td>\n      <td>{}</td>\n    </tr>\n    <tr>\n      <th>327</th>\n      <td>https://w3id.org/climatechangekg/Lesotho</td>\n      <td>{}</td>\n    </tr>\n    <tr>\n      <th>328</th>\n      <td>MS</td>\n      <td>{}</td>\n    </tr>\n    <tr>\n      <th>329</th>\n      <td>ES</td>\n      <td>{}</td>\n    </tr>\n    <tr>\n      <th>330</th>\n      <td>Belgium</td>\n      <td>{}</td>\n    </tr>\n  </tbody>\n</table>\n<p>331 rows × 2 columns</p>\n</div>"
     },
     "execution_count": 6,
     "metadata": {},
     "output_type": "execute_result"
    }
   ],
   "source": [
    "import pandas as pd\n",
    "nodes = pd.DataFrame(dg.nodes(data=True))\n",
    "nodes"
   ],
   "metadata": {
    "collapsed": false,
    "ExecuteTime": {
     "end_time": "2024-03-26T15:50:28.905724900Z",
     "start_time": "2024-03-26T15:50:27.391372500Z"
    }
   },
   "id": "4a6c46982fb220da"
  },
  {
   "cell_type": "code",
   "execution_count": 7,
   "outputs": [
    {
     "data": {
      "text/plain": "                                                     0  \\\n0    https://w3id.org/climatechangekg/Korea%2C%20Re...   \n1    https://w3id.org/climatechangekg/Korea%2C%20Re...   \n2    https://w3id.org/climatechangekg/Korea%2C%20Re...   \n3    https://w3id.org/climatechangekg/Korea%2C%20Re...   \n4               https://w3id.org/climatechangekg/Italy   \n..                                                 ...   \n358           https://w3id.org/climatechangekg/Bermuda   \n359           https://w3id.org/climatechangekg/Bermuda   \n360           https://w3id.org/climatechangekg/Bermuda   \n361           https://w3id.org/climatechangekg/Bermuda   \n362      https://w3id.org/climatechangekg/ontology/GDP   \n\n                                                 1  \\\n0                                               KR   \n1                       https://schema.org/country   \n2                               Korea, Republic of   \n3                                              KOR   \n4    https://w3id.org/climatechangekg/San%20Marino   \n..                                             ...   \n358                     https://schema.org/country   \n359                                        Bermuda   \n360                                            BMU   \n361                                             BM   \n362     http://www.w3.org/2000/01/rdf-schema#Class   \n\n                                                     2  \n0    {'triples': [('https://w3id.org/climatechangek...  \n1    {'triples': [('https://w3id.org/climatechangek...  \n2    {'triples': [('https://w3id.org/climatechangek...  \n3    {'triples': [('https://w3id.org/climatechangek...  \n4    {'triples': [('https://w3id.org/climatechangek...  \n..                                                 ...  \n358  {'triples': [('https://w3id.org/climatechangek...  \n359  {'triples': [('https://w3id.org/climatechangek...  \n360  {'triples': [('https://w3id.org/climatechangek...  \n361  {'triples': [('https://w3id.org/climatechangek...  \n362  {'triples': [('https://w3id.org/climatechangek...  \n\n[363 rows x 3 columns]",
      "text/html": "<div>\n<style scoped>\n    .dataframe tbody tr th:only-of-type {\n        vertical-align: middle;\n    }\n\n    .dataframe tbody tr th {\n        vertical-align: top;\n    }\n\n    .dataframe thead th {\n        text-align: right;\n    }\n</style>\n<table border=\"1\" class=\"dataframe\">\n  <thead>\n    <tr style=\"text-align: right;\">\n      <th></th>\n      <th>0</th>\n      <th>1</th>\n      <th>2</th>\n    </tr>\n  </thead>\n  <tbody>\n    <tr>\n      <th>0</th>\n      <td>https://w3id.org/climatechangekg/Korea%2C%20Re...</td>\n      <td>KR</td>\n      <td>{'triples': [('https://w3id.org/climatechangek...</td>\n    </tr>\n    <tr>\n      <th>1</th>\n      <td>https://w3id.org/climatechangekg/Korea%2C%20Re...</td>\n      <td>https://schema.org/country</td>\n      <td>{'triples': [('https://w3id.org/climatechangek...</td>\n    </tr>\n    <tr>\n      <th>2</th>\n      <td>https://w3id.org/climatechangekg/Korea%2C%20Re...</td>\n      <td>Korea, Republic of</td>\n      <td>{'triples': [('https://w3id.org/climatechangek...</td>\n    </tr>\n    <tr>\n      <th>3</th>\n      <td>https://w3id.org/climatechangekg/Korea%2C%20Re...</td>\n      <td>KOR</td>\n      <td>{'triples': [('https://w3id.org/climatechangek...</td>\n    </tr>\n    <tr>\n      <th>4</th>\n      <td>https://w3id.org/climatechangekg/Italy</td>\n      <td>https://w3id.org/climatechangekg/San%20Marino</td>\n      <td>{'triples': [('https://w3id.org/climatechangek...</td>\n    </tr>\n    <tr>\n      <th>...</th>\n      <td>...</td>\n      <td>...</td>\n      <td>...</td>\n    </tr>\n    <tr>\n      <th>358</th>\n      <td>https://w3id.org/climatechangekg/Bermuda</td>\n      <td>https://schema.org/country</td>\n      <td>{'triples': [('https://w3id.org/climatechangek...</td>\n    </tr>\n    <tr>\n      <th>359</th>\n      <td>https://w3id.org/climatechangekg/Bermuda</td>\n      <td>Bermuda</td>\n      <td>{'triples': [('https://w3id.org/climatechangek...</td>\n    </tr>\n    <tr>\n      <th>360</th>\n      <td>https://w3id.org/climatechangekg/Bermuda</td>\n      <td>BMU</td>\n      <td>{'triples': [('https://w3id.org/climatechangek...</td>\n    </tr>\n    <tr>\n      <th>361</th>\n      <td>https://w3id.org/climatechangekg/Bermuda</td>\n      <td>BM</td>\n      <td>{'triples': [('https://w3id.org/climatechangek...</td>\n    </tr>\n    <tr>\n      <th>362</th>\n      <td>https://w3id.org/climatechangekg/ontology/GDP</td>\n      <td>http://www.w3.org/2000/01/rdf-schema#Class</td>\n      <td>{'triples': [('https://w3id.org/climatechangek...</td>\n    </tr>\n  </tbody>\n</table>\n<p>363 rows × 3 columns</p>\n</div>"
     },
     "execution_count": 7,
     "metadata": {},
     "output_type": "execute_result"
    }
   ],
   "source": [
    "edges = pd.DataFrame(dg.edges(data=True))\n",
    "edges"
   ],
   "metadata": {
    "collapsed": false,
    "ExecuteTime": {
     "end_time": "2024-03-26T15:50:29.006278500Z",
     "start_time": "2024-03-26T15:50:28.891340500Z"
    }
   },
   "id": "ebea076681ef8e8e"
  },
  {
   "cell_type": "code",
   "execution_count": 8,
   "outputs": [],
   "source": [
    "count = 0\n",
    "for node in dg.nodes(data=True):\n",
    "    if node[0] == rdflib.term.URIRef('https://w3id.org/climatechangekg/France'):\n",
    "        print(node)\n",
    "    if count == 5:\n",
    "        break\n",
    "    count += 1"
   ],
   "metadata": {
    "collapsed": false,
    "ExecuteTime": {
     "end_time": "2024-03-26T15:50:29.060159300Z",
     "start_time": "2024-03-26T15:50:28.938301700Z"
    }
   },
   "id": "bdd08b3da389483d"
  },
  {
   "cell_type": "code",
   "execution_count": 9,
   "outputs": [],
   "source": [
    "# too big\n",
    "# nx.draw(g, with_labels=True)"
   ],
   "metadata": {
    "collapsed": false,
    "ExecuteTime": {
     "end_time": "2024-03-26T15:50:29.060159300Z",
     "start_time": "2024-03-26T15:50:28.948869300Z"
    }
   },
   "id": "f31311b63b73e043"
  },
  {
   "cell_type": "code",
   "execution_count": 10,
   "outputs": [],
   "source": [
    "# undirected graph\n",
    "#dg = rdflib_to_networkx_digraph(g, transform_s=transform_str, transform_o =transform_str)\n",
    "#G = dg.to_undirected()"
   ],
   "metadata": {
    "collapsed": false,
    "ExecuteTime": {
     "end_time": "2024-03-26T15:50:29.061235100Z",
     "start_time": "2024-03-26T15:50:28.959617600Z"
    }
   },
   "id": "4368e46535d7bdc7"
  },
  {
   "cell_type": "code",
   "execution_count": 15,
   "outputs": [],
   "source": [
    "# Function to perform multi-hop reasoning using graph traversal\n",
    "def multi_hop_reasoning(query_entity, target_relation, graph):\n",
    "    visited = set()\n",
    "    queue = [(query_entity, [])]  # Start with the query entity and an empty relation path\n",
    "    while queue:\n",
    "        entity, relation_path = queue.pop(0)\n",
    "        if entity == target_relation:\n",
    "            return relation_path\n",
    "        if entity not in visited:\n",
    "            visited.add(entity)\n",
    "            for neighbor in graph.neighbors(entity):\n",
    "                new_path = relation_path + [(entity, neighbor)]\n",
    "                queue.append((neighbor, new_path))\n",
    "\n",
    "    return None"
   ],
   "metadata": {
    "collapsed": false,
    "ExecuteTime": {
     "end_time": "2024-03-26T15:51:46.823888500Z",
     "start_time": "2024-03-26T15:51:46.815291500Z"
    }
   },
   "id": "b23f2647270b8d40"
  },
  {
   "cell_type": "code",
   "execution_count": 16,
   "outputs": [
    {
     "name": "stdout",
     "output_type": "stream",
     "text": [
      "Relation path: [(rdflib.term.URIRef('https://w3id.org/climatechangekg/France'), rdflib.term.URIRef('https://w3id.org/climatechangekg/Spain')), (rdflib.term.URIRef('https://w3id.org/climatechangekg/Spain'), rdflib.term.URIRef('https://w3id.org/climatechangekg/Portugal'))]\n"
     ]
    }
   ],
   "source": [
    "# traverse the graph from france to portugal\n",
    "query_entity = rdflib.term.URIRef('https://w3id.org/climatechangekg/France')\n",
    "target_relation = rdflib.term.URIRef('https://w3id.org/climatechangekg/Portugal')\n",
    "result = multi_hop_reasoning(query_entity, target_relation, dg)\n",
    "if result:\n",
    "    print(\"Relation path:\", result)\n",
    "else:\n",
    "    print(\"No relation path found between the entities.\")"
   ],
   "metadata": {
    "collapsed": false,
    "ExecuteTime": {
     "end_time": "2024-03-26T15:51:53.274393Z",
     "start_time": "2024-03-26T15:51:53.255181900Z"
    }
   },
   "id": "ceadee7c448b1d97"
  }
 ],
 "metadata": {
  "kernelspec": {
   "display_name": "Python 3",
   "language": "python",
   "name": "python3"
  },
  "language_info": {
   "codemirror_mode": {
    "name": "ipython",
    "version": 2
   },
   "file_extension": ".py",
   "mimetype": "text/x-python",
   "name": "python",
   "nbconvert_exporter": "python",
   "pygments_lexer": "ipython2",
   "version": "2.7.6"
  }
 },
 "nbformat": 4,
 "nbformat_minor": 5
}

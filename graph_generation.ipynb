{
 "cells": [
  {
   "cell_type": "code",
   "execution_count": 3,
   "id": "5381eb3c",
   "metadata": {},
   "outputs": [
    {
     "name": "stdout",
     "output_type": "stream",
     "text": [
      "Collecting SPARQLWrapper\n",
      "  Obtaining dependency information for SPARQLWrapper from https://files.pythonhosted.org/packages/31/89/176e3db96e31e795d7dfd91dd67749d3d1f0316bb30c6931a6140e1a0477/SPARQLWrapper-2.0.0-py3-none-any.whl.metadata\n",
      "  Downloading SPARQLWrapper-2.0.0-py3-none-any.whl.metadata (2.0 kB)\n",
      "Requirement already satisfied: rdflib>=6.1.1 in c:\\users\\teunh\\anaconda3\\lib\\site-packages (from SPARQLWrapper) (7.0.0)\n",
      "Requirement already satisfied: isodate<0.7.0,>=0.6.0 in c:\\users\\teunh\\anaconda3\\lib\\site-packages (from rdflib>=6.1.1->SPARQLWrapper) (0.6.1)\n",
      "Requirement already satisfied: pyparsing<4,>=2.1.0 in c:\\users\\teunh\\anaconda3\\lib\\site-packages (from rdflib>=6.1.1->SPARQLWrapper) (3.0.9)\n",
      "Requirement already satisfied: six in c:\\users\\teunh\\anaconda3\\lib\\site-packages (from isodate<0.7.0,>=0.6.0->rdflib>=6.1.1->SPARQLWrapper) (1.16.0)\n",
      "Downloading SPARQLWrapper-2.0.0-py3-none-any.whl (28 kB)\n",
      "Installing collected packages: SPARQLWrapper\n",
      "Successfully installed SPARQLWrapper-2.0.0\n",
      "Note: you may need to restart the kernel to use updated packages.\n"
     ]
    }
   ],
   "source": [
    "pip install SPARQLWrapper"
   ]
  },
  {
   "cell_type": "code",
   "execution_count": 4,
   "id": "2feb32f7",
   "metadata": {},
   "outputs": [],
   "source": [
    "from rdflib import Graph, URIRef, Literal, Namespace\n",
    "from rdflib.namespace import RDF, RDFS\n",
    "\n",
    "from SPARQLWrapper import SPARQLWrapper, JSON"
   ]
  },
  {
   "cell_type": "code",
   "execution_count": 30,
   "id": "2c158962",
   "metadata": {},
   "outputs": [],
   "source": [
    "WD = Namespace(\"http://www.wikidata.org/entity/\")\n",
    "RDFS = Namespace(\"http://www.w3.org/2000/01/rdf-schema#\")\n",
    "ex = Namespace(\"https://www.example.org/\")\n",
    "wdt = Namespace(\"https://www.wikidata.org/prop/direct/\")"
   ]
  },
  {
   "cell_type": "code",
   "execution_count": 31,
   "id": "55a59b55",
   "metadata": {},
   "outputs": [],
   "source": [
    "sparql_query = \"\"\"\n",
    "SELECT DISTINCT ?drug ?drugLabel ?disease ?diseaseLabel ?cause ?causeLabel ?symptom ?symptomLabel ?sideEffect ?sideEffectLabel ?gene ?geneLabel\n",
    "WHERE {\n",
    "  ?drug wdt:P31 wd:Q12140 .  # medicine\n",
    "  ?drug wdt:P2175 ?disease .    # treats disease\n",
    "  OPTIONAL { ?disease wdt:P828 ?cause } .  # cause of disease\n",
    "  OPTIONAL { ?disease wdt:P780 ?symptom } .  # symptom/complaint of disease\n",
    "  OPTIONAL { ?drug wdt:P780 ?sideEffect } .  # potential side effect\n",
    "  OPTIONAL { ?disease wdt:P1057 ?gene } .  # gene associated with disease\n",
    "  SERVICE wikibase:label {\n",
    "    bd:serviceParam wikibase:language \"en\" .\n",
    "  }\n",
    "}\n",
    "\"\"\""
   ]
  },
  {
   "cell_type": "code",
   "execution_count": 33,
   "id": "9d1a768b",
   "metadata": {},
   "outputs": [
    {
     "data": {
      "text/plain": [
       "<Graph identifier=N649d76492c0240779289d23fcdd8f760 (<class 'rdflib.graph.Graph'>)>"
      ]
     },
     "execution_count": 33,
     "metadata": {},
     "output_type": "execute_result"
    }
   ],
   "source": [
    "sparql = SPARQLWrapper(\"https://query.wikidata.org/sparql\")\n",
    "sparql.setQuery(sparql_query)\n",
    "sparql.setReturnFormat(JSON)\n",
    "results = sparql.query().convert()\n",
    "\n",
    "# Create an RDF graph\n",
    "g = Graph()\n",
    "\n",
    "# Bind namespaces\n",
    "g.bind(\"wd\", WD)\n",
    "g.bind(\"wdt\", WDT)\n",
    "g.bind(\"rdfs\", RDFS)\n",
    "\n",
    "# Process query results\n",
    "for result in results[\"results\"][\"bindings\"]:\n",
    "    drug = URIRef(result[\"drug\"][\"value\"])\n",
    "    disease = URIRef(result[\"disease\"][\"value\"])\n",
    "\n",
    "    # Add RDF types\n",
    "    g.add((drug, RDF.type, ex.Drug))\n",
    "    g.add((disease, RDF.type, ex.Disease))\n",
    "    if \"cause\" in result:\n",
    "        cause = URIRef(result[\"cause\"][\"value\"])\n",
    "        g.add((cause, RDF.type, ex.Cause))\n",
    "    if \"symptom\" in result:\n",
    "        symptom = URIRef(result[\"symptom\"][\"value\"])\n",
    "        g.add((symptom, RDF.type, ex.Symptom))\n",
    "    if \"sideEffect\" in result:\n",
    "        side_effect = URIRef(result[\"sideEffect\"][\"value\"])\n",
    "        g.add((side_effect, RDF.type, ex.SideEffect))\n",
    "    if \"gene\" in result:\n",
    "        gene = URIRef(result[\"gene\"][\"value\"])\n",
    "        g.add((gene, RDF.type, ex.Gene))\n",
    "\n",
    "    # Add labels\n",
    "    g.add((drug, RDFS.label, Literal(result[\"drugLabel\"][\"value\"])))\n",
    "    g.add((disease, RDFS.label, Literal(result[\"diseaseLabel\"][\"value\"])))\n",
    "    if \"cause\" in result:\n",
    "        g.add((cause, RDFS.label, Literal(result[\"causeLabel\"][\"value\"])))\n",
    "    if \"symptom\" in result:\n",
    "        g.add((symptom, RDFS.label, Literal(result[\"symptomLabel\"][\"value\"])))\n",
    "    if \"sideEffect\" in result:\n",
    "        g.add((side_effect, RDFS.label, Literal(result[\"sideEffectLabel\"][\"value\"])))\n",
    "    if \"gene\" in result:\n",
    "        g.add((gene, RDFS.label, Literal(result[\"geneLabel\"][\"value\"])))\n",
    "\n",
    "    # Add relationships\n",
    "    g.add((drug, ex.treats, disease))\n",
    "    if \"cause\" in result:\n",
    "        g.add((disease, ex.hasCause, cause))\n",
    "    if \"symptom\" in result:\n",
    "        g.add((disease, ex.hasSymptom, symptom))\n",
    "    if \"sideEffect\" in result:\n",
    "        g.add((drug, ex.hasSideEffect, side_effect))\n",
    "    if \"gene\" in result:\n",
    "        g.add((disease, ex.associatedGene, gene))\n",
    "\n",
    "# Serialize the graph to a TTL file\n",
    "g.serialize(destination='medical_graph.ttl', format='turtle')\n"
   ]
  },
  {
   "cell_type": "code",
   "execution_count": 25,
   "id": "2aa35330",
   "metadata": {},
   "outputs": [
    {
     "data": {
      "text/plain": [
       "(True, 'ontology.txt')"
      ]
     },
     "execution_count": 25,
     "metadata": {},
     "output_type": "execute_result"
    }
   ],
   "source": [
    "g = Graph()\n",
    "g.parse(\"wikidata_drug_disease_graph.ttl\", format=\"turtle\")\n",
    "\n",
    "# Define a namespace for our ontology\n",
    "ONT = Namespace(\"http://example.com/ontology#\")\n",
    "\n",
    "# Create a new RDF graph for the ontology\n",
    "ontology_graph = Graph()\n",
    "\n",
    "# Iterate over triples to identify classes and properties\n",
    "classes = set()\n",
    "properties = set()\n",
    "for s, p, o in g:\n",
    "    if isinstance(s, URIRef):\n",
    "        classes.add(s)\n",
    "    if isinstance(p, URIRef):\n",
    "        properties.add(p)\n",
    "    if isinstance(o, URIRef):\n",
    "        classes.add(o)\n",
    "\n",
    "# Define classes in the ontology\n",
    "for class_uri in classes:\n",
    "    ontology_graph.add((class_uri, RDF.type, RDFS.Class))\n",
    "    ontology_graph.add((class_uri, RDFS.label, class_uri))\n",
    "\n",
    "# Define properties in the ontology\n",
    "for property_uri in properties:\n",
    "    ontology_graph.add((property_uri, RDF.type, RDF.Property))\n",
    "    ontology_graph.add((property_uri, RDFS.label, property_uri))\n",
    "\n",
    "# Serialize the ontology to a Turtle file\n",
    "ontology_graph.serialize(destination=\"wikidata_ontology.ttl\", format=\"turtle\""
   ]
  },
  {
   "cell_type": "code",
   "execution_count": null,
   "id": "d94b756a",
   "metadata": {},
   "outputs": [],
   "source": []
  }
 ],
 "metadata": {
  "kernelspec": {
   "display_name": "Python 3 (ipykernel)",
   "language": "python",
   "name": "python3"
  },
  "language_info": {
   "codemirror_mode": {
    "name": "ipython",
    "version": 3
   },
   "file_extension": ".py",
   "mimetype": "text/x-python",
   "name": "python",
   "nbconvert_exporter": "python",
   "pygments_lexer": "ipython3",
   "version": "3.11.5"
  }
 },
 "nbformat": 4,
 "nbformat_minor": 5
}

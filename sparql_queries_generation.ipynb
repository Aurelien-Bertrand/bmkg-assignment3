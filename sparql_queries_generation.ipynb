{
 "cells": [
  {
   "cell_type": "markdown",
   "id": "d1ecf4af2ac11dae",
   "metadata": {
    "collapsed": false
   },
   "source": [
    "# BMKG - Assignment 3\n",
    "\n",
    "This notebook intends to automatically generate a SCHEMA for any given KG."
   ]
  },
  {
   "cell_type": "code",
   "execution_count": 31,
   "id": "616379e27251c82f",
   "metadata": {
    "ExecuteTime": {
     "end_time": "2024-03-24T15:18:07.101524Z",
     "start_time": "2024-03-24T15:18:05.841620Z"
    },
    "collapsed": false
   },
   "outputs": [],
   "source": [
    "from operator import itemgetter\n",
    "import getpass\n",
    "import os\n",
    "\n",
    "from typing import Any\n",
    "\n",
    "from rdflib import Graph\n",
    "\n",
    "from langchain_core.runnables import RunnablePassthrough, RunnableLambda\n",
    "from langchain.memory import ConversationBufferMemory\n",
    "from langchain_core.prompts import PromptTemplate, format_document\n",
    "from langchain_core.output_parsers import StrOutputParser\n",
    "from langchain_core.messages import get_buffer_string\n",
    "from langchain_openai import OpenAI"
   ]
  },
  {
   "cell_type": "code",
   "execution_count": 32,
   "id": "de00d5a25be72804",
   "metadata": {
    "ExecuteTime": {
     "end_time": "2024-03-24T15:18:14.996267Z",
     "start_time": "2024-03-24T15:18:07.102973Z"
    },
    "collapsed": false
   },
   "outputs": [],
   "source": [
    "if \"OPENAI_API_KEY\" not in os.environ:\n",
    "    os.environ[\"OPENAI_API_KEY\"] = getpass.getpass(\"Provide your OpenAI API Key\")"
   ]
  },
  {
   "cell_type": "markdown",
   "id": "29b25c0fea03e406",
   "metadata": {
    "collapsed": false
   },
   "source": [
    "1) Get the RDF graph"
   ]
  },
  {
   "cell_type": "code",
   "execution_count": 33,
   "id": "d56cc8e9240d6e3b",
   "metadata": {
    "ExecuteTime": {
     "end_time": "2024-03-24T15:35:59.746402Z",
     "start_time": "2024-03-24T15:35:54.342488Z"
    },
    "collapsed": false
   },
   "outputs": [
    {
     "name": "stderr",
     "output_type": "stream",
     "text": [
      "file:///home/tpf2906/code/Maastricht/BMKG/Assignments/Assignment 1/src/graph_from_data_sources.ttl does not look like a valid URI, trying to serialize this will break.\n",
      "file:///home/tpf2906/code/Maastricht/BMKG/Assignments/Assignment 1/src/graph_from_data_sources.ttl does not look like a valid URI, trying to serialize this will break.\n"
     ]
    },
    {
     "name": "stdout",
     "output_type": "stream",
     "text": [
      "Number of triples:  178548\n"
     ]
    }
   ],
   "source": [
    "with open('general_representation_of_our_vocabulary.txt', 'r') as file:\n",
    "    schema = file.read()\n",
    "    \n",
    "graph = Graph()\n",
    "graph = graph.parse(\"../Assignment 1/src/graph_from_data_sources.ttl\")\n",
    "\n",
    "print(\"Number of triples: \", len(graph))"
   ]
  },
  {
   "cell_type": "code",
   "execution_count": 34,
   "id": "7be82a9bb3943d7f",
   "metadata": {
    "ExecuteTime": {
     "end_time": "2024-03-24T15:35:59.774487Z",
     "start_time": "2024-03-24T15:35:59.748601Z"
    },
    "collapsed": false
   },
   "outputs": [],
   "source": [
    "llm = OpenAI(temperature=0)"
   ]
  },
  {
   "cell_type": "code",
   "execution_count": 35,
   "id": "bf55da9ace49a765",
   "metadata": {
    "ExecuteTime": {
     "end_time": "2024-03-24T15:36:27.929797Z",
     "start_time": "2024-03-24T15:36:27.927402Z"
    },
    "collapsed": false
   },
   "outputs": [],
   "source": [
    "from langchain_core.prompts import ChatPromptTemplate\n",
    "\n",
    "# Create the memory object that is used to add messages\n",
    "memory = ConversationBufferMemory(\n",
    "    return_messages=True, output_key=\"answer\", input_key=\"question\"\n",
    ")\n",
    "# Add a \"memory\" key to the input object\n",
    "loaded_memory = RunnablePassthrough.assign(\n",
    "    chat_history=RunnableLambda(memory.load_memory_variables) | itemgetter(\"history\"),\n",
    ")\n",
    "\n",
    "# Prompt to reformulate the question using the chat history\n",
    "reform_template = \"\"\"Given the following chat history and a follow up question,\n",
    "rephrase the follow up question to be a standalone straightforward question, in its original language.\n",
    "Do not answer the question! Just rephrase reusing information from the chat history.\n",
    "Make it short and straight to the point.\n",
    "\n",
    "Chat History:\n",
    "{chat_history}\n",
    "Follow up input:\n",
    "{question}\n",
    "\n",
    "Standalone question:\n",
    "\"\"\"\n",
    "REFORM_QUESTION_PROMPT = PromptTemplate.from_template(reform_template)\n",
    "\n",
    "answer_template = \"\"\"Briefly answer the question based only on the following context,\n",
    "do not use any information outside this context:\n",
    "{context}\"\"\"\n",
    "\n",
    "# Prompt to ask to answer the reformulated question\n",
    "answer_template = \"\"\"Write a valid SPARQL query to answer the question based only on the\n",
    "following schema, do not use any information outside this schema:\n",
    "{schema}\n",
    "\n",
    "Only output the query, without the prefixes. You should not use any URI in the query, \n",
    "instead add relations to exploit information you are sure about.\n",
    "\n",
    "Question: {question}\n",
    "\"\"\"\n",
    "ANSWER_PROMPT = ChatPromptTemplate.from_template(answer_template)"
   ]
  },
  {
   "cell_type": "code",
   "execution_count": 36,
   "id": "28518303c93282ec",
   "metadata": {
    "ExecuteTime": {
     "end_time": "2024-03-24T15:36:28.486727Z",
     "start_time": "2024-03-24T15:36:28.484348Z"
    },
    "collapsed": false
   },
   "outputs": [],
   "source": [
    "# TODO: ask it to generate a schema as well?\n",
    "\n",
    "# Reformulate the question using chat history\n",
    "reformulated_question = {\n",
    "    \"reformulated_question\": {\n",
    "        \"question\": lambda x: x[\"question\"],\n",
    "        \"chat_history\": lambda x: get_buffer_string(x[\"chat_history\"]),\n",
    "    }\n",
    "    | REFORM_QUESTION_PROMPT\n",
    "    | llm\n",
    "    | StrOutputParser(),\n",
    "}\n",
    "final_inputs = {\n",
    "    \"schema\": lambda x: schema,\n",
    "    \"question\": lambda x: print(\"💭 Reformulated question:\", x[\"reformulated_question\"]) or x[\"reformulated_question\"],\n",
    "}\n",
    "answer = {\n",
    "    \"answer\": final_inputs | ANSWER_PROMPT | llm,\n",
    "}\n",
    "# Put the chain together\n",
    "final_chain = loaded_memory | reformulated_question | answer\n",
    "\n",
    "def stream_chain(final_chain, memory: ConversationBufferMemory, inputs_list: list[dict[str, str]]) -> dict[str, Any]:\n",
    "    \"\"\"Ask questions, stream the answer output, and return the answers.\"\"\"\n",
    "    output = {\"answers\": []}\n",
    "    for inputs in inputs_list:\n",
    "        answer_output = {\"answer\": \"\"}\n",
    "        for chunk in final_chain.stream(inputs):\n",
    "            if \"answer\" in chunk:\n",
    "                answer_output[\"answer\"] += chunk[\"answer\"]\n",
    "                print(chunk[\"answer\"], end=\"\", flush=True)\n",
    "        \n",
    "        output[\"answers\"].append(answer_output)\n",
    "        # Add messages to chat history\n",
    "        memory.save_context(inputs, {\"answer\": answer_output[\"answer\"]})\n",
    "    \n",
    "    return output"
   ]
  },
  {
   "cell_type": "code",
   "execution_count": 37,
   "id": "5ee43039f6f4af97",
   "metadata": {
    "ExecuteTime": {
     "end_time": "2024-03-24T15:36:54.049218Z",
     "start_time": "2024-03-24T15:36:51.925763Z"
    },
    "collapsed": false
   },
   "outputs": [
    {
     "name": "stdout",
     "output_type": "stream",
     "text": [
      "💭 Reformulated question: Which country had the highest CO2 concentration in 2018?\n",
      "\n",
      "SELECT ?country\n",
      "WHERE {\n",
      "    ?observation ex:isAbout ?country .\n",
      "    ?observation ex:measured gas:CO2 .\n",
      "    ?observation ex:value ?value .\n",
      "    ?observation ex:year \"2018\"^^xsd:gYear .\n",
      "}\n",
      "ORDER BY DESC(?value)\n",
      "LIMIT 1💭 Reformulated question: What was the population of Belgium in 2015?\n",
      "\n",
      "SELECT ?value\n",
      "WHERE {\n",
      "    ?observation ex:isAbout ?country .\n",
      "    ?observation ex:measured ex:Population .\n",
      "    ?observation ex:value ?value .\n",
      "    ?observation ex:year \"2015\"^^xsd:gYear .\n",
      "    ?country rdfs:label \"Belgium\"^^xsd:string .\n",
      "}"
     ]
    }
   ],
   "source": [
    "questions = [\n",
    "    {\"question\": \"What is the name of the country with the highest CO2 concentration in 2018?\"},\n",
    "    {\"question\": \"What is the population in 2015 in Belgium?\"},\n",
    "]\n",
    "\n",
    "output = stream_chain(final_chain, memory, questions)"
   ]
  },
  {
   "cell_type": "code",
   "execution_count": 38,
   "id": "678433e5606a55da",
   "metadata": {
    "ExecuteTime": {
     "end_time": "2024-03-24T15:36:56.460757Z",
     "start_time": "2024-03-24T15:36:56.457400Z"
    },
    "collapsed": false
   },
   "outputs": [],
   "source": [
    "import pandas as pd\n",
    "from IPython.display import display, HTML\n",
    "from pygments import highlight\n",
    "from pygments.lexers import SparqlLexer\n",
    "from pygments.formatters import HtmlFormatter\n",
    "\n",
    "def run_query(graph, query):\n",
    "    # Execute the SPARQL query\n",
    "    results = graph.query(query)\n",
    "    \n",
    "    # Display the SPARQL query\n",
    "    formatted_query = highlight(query, SparqlLexer(), HtmlFormatter(style='solarized-dark', full=True, nobackground=True))\n",
    "    display(HTML(formatted_query))\n",
    "    \n",
    "    # Convert results to a Pandas DataFrame\n",
    "    res_list = []\n",
    "    for row in results:\n",
    "        res_list.append([str(item) for item in row])\n",
    "    df = pd.DataFrame(res_list, columns=[str(var) for var in results.vars]) if len(res_list) > 0 else pd.DataFrame()\n",
    "\n",
    "    # Display the DataFrame as a table in Jupyter Notebook\n",
    "    display(HTML(df.to_html()))"
   ]
  },
  {
   "cell_type": "code",
   "execution_count": 39,
   "id": "15dd22680f0b1a4d",
   "metadata": {
    "ExecuteTime": {
     "end_time": "2024-03-24T15:36:56.927242Z",
     "start_time": "2024-03-24T15:36:56.807029Z"
    },
    "collapsed": false
   },
   "outputs": [
    {
     "name": "stdout",
     "output_type": "stream",
     "text": [
      "\n",
      "SELECT ?country\n",
      "WHERE {\n",
      "    ?observation ex:isAbout ?country .\n",
      "    ?observation ex:measured gas:CO2 .\n",
      "    ?observation ex:value ?value .\n",
      "    ?observation ex:year \"2018\"^^xsd:gYear .\n",
      "}\n",
      "ORDER BY DESC(?value)\n",
      "LIMIT 1\n"
     ]
    },
    {
     "data": {
      "text/html": [
       "<!DOCTYPE html PUBLIC \"-//W3C//DTD HTML 4.01//EN\"\n",
       "   \"http://www.w3.org/TR/html4/strict.dtd\">\n",
       "<!--\n",
       "generated by Pygments <https://pygments.org/>\n",
       "Copyright 2006-2023 by the Pygments team.\n",
       "Licensed under the BSD license, see LICENSE for details.\n",
       "-->\n",
       "<html>\n",
       "<head>\n",
       "  <title></title>\n",
       "  <meta http-equiv=\"content-type\" content=\"text/html; charset=None\">\n",
       "  <style type=\"text/css\">\n",
       "/*\n",
       "generated by Pygments <https://pygments.org/>\n",
       "Copyright 2006-2023 by the Pygments team.\n",
       "Licensed under the BSD license, see LICENSE for details.\n",
       "*/\n",
       "pre { line-height: 125%; }\n",
       "td.linenos .normal { color: #586e75; background-color: #073642; padding-left: 5px; padding-right: 5px; }\n",
       "span.linenos { color: #586e75; background-color: #073642; padding-left: 5px; padding-right: 5px; }\n",
       "td.linenos .special { color: #000000; background-color: #ffffc0; padding-left: 5px; padding-right: 5px; }\n",
       "span.linenos.special { color: #000000; background-color: #ffffc0; padding-left: 5px; padding-right: 5px; }\n",
       "body .hll { background-color: #073642 }\n",
       "body .c { color: #586e75; font-style: italic } /* Comment */\n",
       "body .err { color: #839496; background-color: #dc322f } /* Error */\n",
       "body .esc { color: #839496 } /* Escape */\n",
       "body .g { color: #839496 } /* Generic */\n",
       "body .k { color: #859900 } /* Keyword */\n",
       "body .l { color: #839496 } /* Literal */\n",
       "body .n { color: #839496 } /* Name */\n",
       "body .o { color: #586e75 } /* Operator */\n",
       "body .x { color: #839496 } /* Other */\n",
       "body .p { color: #839496 } /* Punctuation */\n",
       "body .ch { color: #586e75; font-style: italic } /* Comment.Hashbang */\n",
       "body .cm { color: #586e75; font-style: italic } /* Comment.Multiline */\n",
       "body .cp { color: #d33682 } /* Comment.Preproc */\n",
       "body .cpf { color: #586e75 } /* Comment.PreprocFile */\n",
       "body .c1 { color: #586e75; font-style: italic } /* Comment.Single */\n",
       "body .cs { color: #586e75; font-style: italic } /* Comment.Special */\n",
       "body .gd { color: #dc322f } /* Generic.Deleted */\n",
       "body .ge { color: #839496; font-style: italic } /* Generic.Emph */\n",
       "body .ges { color: #839496; font-weight: bold; font-style: italic } /* Generic.EmphStrong */\n",
       "body .gr { color: #dc322f } /* Generic.Error */\n",
       "body .gh { color: #839496; font-weight: bold } /* Generic.Heading */\n",
       "body .gi { color: #859900 } /* Generic.Inserted */\n",
       "body .go { color: #839496 } /* Generic.Output */\n",
       "body .gp { color: #268bd2; font-weight: bold } /* Generic.Prompt */\n",
       "body .gs { color: #839496; font-weight: bold } /* Generic.Strong */\n",
       "body .gu { color: #839496; text-decoration: underline } /* Generic.Subheading */\n",
       "body .gt { color: #268bd2 } /* Generic.Traceback */\n",
       "body .kc { color: #2aa198 } /* Keyword.Constant */\n",
       "body .kd { color: #2aa198 } /* Keyword.Declaration */\n",
       "body .kn { color: #cb4b16 } /* Keyword.Namespace */\n",
       "body .kp { color: #859900 } /* Keyword.Pseudo */\n",
       "body .kr { color: #859900 } /* Keyword.Reserved */\n",
       "body .kt { color: #b58900 } /* Keyword.Type */\n",
       "body .ld { color: #839496 } /* Literal.Date */\n",
       "body .m { color: #2aa198 } /* Literal.Number */\n",
       "body .s { color: #2aa198 } /* Literal.String */\n",
       "body .na { color: #839496 } /* Name.Attribute */\n",
       "body .nb { color: #268bd2 } /* Name.Builtin */\n",
       "body .nc { color: #268bd2 } /* Name.Class */\n",
       "body .no { color: #268bd2 } /* Name.Constant */\n",
       "body .nd { color: #268bd2 } /* Name.Decorator */\n",
       "body .ni { color: #268bd2 } /* Name.Entity */\n",
       "body .ne { color: #268bd2 } /* Name.Exception */\n",
       "body .nf { color: #268bd2 } /* Name.Function */\n",
       "body .nl { color: #268bd2 } /* Name.Label */\n",
       "body .nn { color: #268bd2 } /* Name.Namespace */\n",
       "body .nx { color: #839496 } /* Name.Other */\n",
       "body .py { color: #839496 } /* Name.Property */\n",
       "body .nt { color: #268bd2 } /* Name.Tag */\n",
       "body .nv { color: #268bd2 } /* Name.Variable */\n",
       "body .ow { color: #859900 } /* Operator.Word */\n",
       "body .pm { color: #839496 } /* Punctuation.Marker */\n",
       "body .w { color: #839496 } /* Text.Whitespace */\n",
       "body .mb { color: #2aa198 } /* Literal.Number.Bin */\n",
       "body .mf { color: #2aa198 } /* Literal.Number.Float */\n",
       "body .mh { color: #2aa198 } /* Literal.Number.Hex */\n",
       "body .mi { color: #2aa198 } /* Literal.Number.Integer */\n",
       "body .mo { color: #2aa198 } /* Literal.Number.Oct */\n",
       "body .sa { color: #2aa198 } /* Literal.String.Affix */\n",
       "body .sb { color: #2aa198 } /* Literal.String.Backtick */\n",
       "body .sc { color: #2aa198 } /* Literal.String.Char */\n",
       "body .dl { color: #2aa198 } /* Literal.String.Delimiter */\n",
       "body .sd { color: #586e75 } /* Literal.String.Doc */\n",
       "body .s2 { color: #2aa198 } /* Literal.String.Double */\n",
       "body .se { color: #2aa198 } /* Literal.String.Escape */\n",
       "body .sh { color: #2aa198 } /* Literal.String.Heredoc */\n",
       "body .si { color: #2aa198 } /* Literal.String.Interpol */\n",
       "body .sx { color: #2aa198 } /* Literal.String.Other */\n",
       "body .sr { color: #cb4b16 } /* Literal.String.Regex */\n",
       "body .s1 { color: #2aa198 } /* Literal.String.Single */\n",
       "body .ss { color: #2aa198 } /* Literal.String.Symbol */\n",
       "body .bp { color: #268bd2 } /* Name.Builtin.Pseudo */\n",
       "body .fm { color: #268bd2 } /* Name.Function.Magic */\n",
       "body .vc { color: #268bd2 } /* Name.Variable.Class */\n",
       "body .vg { color: #268bd2 } /* Name.Variable.Global */\n",
       "body .vi { color: #268bd2 } /* Name.Variable.Instance */\n",
       "body .vm { color: #268bd2 } /* Name.Variable.Magic */\n",
       "body .il { color: #2aa198 } /* Literal.Number.Integer.Long */\n",
       "\n",
       "  </style>\n",
       "</head>\n",
       "<body>\n",
       "<h2></h2>\n",
       "\n",
       "<div class=\"highlight\"><pre><span></span><span class=\"k\">SELECT</span> <span class=\"nv\">?country</span>\n",
       "<span class=\"k\">WHERE</span> <span class=\"p\">{</span>\n",
       "    <span class=\"nv\">?observation</span> <span class=\"nn\">ex</span><span class=\"p\">:</span><span class=\"nt\">isAbout</span> <span class=\"nv\">?country</span> <span class=\"p\">.</span>\n",
       "    <span class=\"nv\">?observation</span> <span class=\"nn\">ex</span><span class=\"p\">:</span><span class=\"nt\">measured</span> <span class=\"nn\">gas</span><span class=\"p\">:</span><span class=\"nt\">CO2</span> <span class=\"p\">.</span>\n",
       "    <span class=\"nv\">?observation</span> <span class=\"nn\">ex</span><span class=\"p\">:</span><span class=\"nt\">value</span> <span class=\"nv\">?value</span> <span class=\"p\">.</span>\n",
       "    <span class=\"nv\">?observation</span> <span class=\"nn\">ex</span><span class=\"p\">:</span><span class=\"nt\">year</span> <span class=\"s\">&quot;2018&quot;</span><span class=\"o\">^^</span><span class=\"nn\">xsd</span><span class=\"p\">:</span><span class=\"nt\">gYear</span> <span class=\"p\">.</span>\n",
       "<span class=\"p\">}</span>\n",
       "<span class=\"k\">ORDER BY</span> <span class=\"k\">DESC</span><span class=\"p\">(</span><span class=\"nv\">?value</span><span class=\"p\">)</span>\n",
       "<span class=\"k\">LIMIT</span> <span class=\"mi\">1</span>\n",
       "</pre></div>\n",
       "</body>\n",
       "</html>\n"
      ],
      "text/plain": [
       "<IPython.core.display.HTML object>"
      ]
     },
     "metadata": {},
     "output_type": "display_data"
    },
    {
     "data": {
      "text/html": [
       "<table border=\"1\" class=\"dataframe\">\n",
       "  <thead>\n",
       "    <tr style=\"text-align: right;\">\n",
       "      <th></th>\n",
       "      <th>country</th>\n",
       "    </tr>\n",
       "  </thead>\n",
       "  <tbody>\n",
       "    <tr>\n",
       "      <th>0</th>\n",
       "      <td>https://www.example.org/country/CHN</td>\n",
       "    </tr>\n",
       "  </tbody>\n",
       "</table>"
      ],
      "text/plain": [
       "<IPython.core.display.HTML object>"
      ]
     },
     "metadata": {},
     "output_type": "display_data"
    },
    {
     "name": "stdout",
     "output_type": "stream",
     "text": [
      "\n",
      "SELECT ?value\n",
      "WHERE {\n",
      "    ?observation ex:isAbout ?country .\n",
      "    ?observation ex:measured ex:Population .\n",
      "    ?observation ex:value ?value .\n",
      "    ?observation ex:year \"2015\"^^xsd:gYear .\n",
      "    ?country rdfs:label \"Belgium\"^^xsd:string .\n",
      "}\n"
     ]
    },
    {
     "data": {
      "text/html": [
       "<!DOCTYPE html PUBLIC \"-//W3C//DTD HTML 4.01//EN\"\n",
       "   \"http://www.w3.org/TR/html4/strict.dtd\">\n",
       "<!--\n",
       "generated by Pygments <https://pygments.org/>\n",
       "Copyright 2006-2023 by the Pygments team.\n",
       "Licensed under the BSD license, see LICENSE for details.\n",
       "-->\n",
       "<html>\n",
       "<head>\n",
       "  <title></title>\n",
       "  <meta http-equiv=\"content-type\" content=\"text/html; charset=None\">\n",
       "  <style type=\"text/css\">\n",
       "/*\n",
       "generated by Pygments <https://pygments.org/>\n",
       "Copyright 2006-2023 by the Pygments team.\n",
       "Licensed under the BSD license, see LICENSE for details.\n",
       "*/\n",
       "pre { line-height: 125%; }\n",
       "td.linenos .normal { color: #586e75; background-color: #073642; padding-left: 5px; padding-right: 5px; }\n",
       "span.linenos { color: #586e75; background-color: #073642; padding-left: 5px; padding-right: 5px; }\n",
       "td.linenos .special { color: #000000; background-color: #ffffc0; padding-left: 5px; padding-right: 5px; }\n",
       "span.linenos.special { color: #000000; background-color: #ffffc0; padding-left: 5px; padding-right: 5px; }\n",
       "body .hll { background-color: #073642 }\n",
       "body .c { color: #586e75; font-style: italic } /* Comment */\n",
       "body .err { color: #839496; background-color: #dc322f } /* Error */\n",
       "body .esc { color: #839496 } /* Escape */\n",
       "body .g { color: #839496 } /* Generic */\n",
       "body .k { color: #859900 } /* Keyword */\n",
       "body .l { color: #839496 } /* Literal */\n",
       "body .n { color: #839496 } /* Name */\n",
       "body .o { color: #586e75 } /* Operator */\n",
       "body .x { color: #839496 } /* Other */\n",
       "body .p { color: #839496 } /* Punctuation */\n",
       "body .ch { color: #586e75; font-style: italic } /* Comment.Hashbang */\n",
       "body .cm { color: #586e75; font-style: italic } /* Comment.Multiline */\n",
       "body .cp { color: #d33682 } /* Comment.Preproc */\n",
       "body .cpf { color: #586e75 } /* Comment.PreprocFile */\n",
       "body .c1 { color: #586e75; font-style: italic } /* Comment.Single */\n",
       "body .cs { color: #586e75; font-style: italic } /* Comment.Special */\n",
       "body .gd { color: #dc322f } /* Generic.Deleted */\n",
       "body .ge { color: #839496; font-style: italic } /* Generic.Emph */\n",
       "body .ges { color: #839496; font-weight: bold; font-style: italic } /* Generic.EmphStrong */\n",
       "body .gr { color: #dc322f } /* Generic.Error */\n",
       "body .gh { color: #839496; font-weight: bold } /* Generic.Heading */\n",
       "body .gi { color: #859900 } /* Generic.Inserted */\n",
       "body .go { color: #839496 } /* Generic.Output */\n",
       "body .gp { color: #268bd2; font-weight: bold } /* Generic.Prompt */\n",
       "body .gs { color: #839496; font-weight: bold } /* Generic.Strong */\n",
       "body .gu { color: #839496; text-decoration: underline } /* Generic.Subheading */\n",
       "body .gt { color: #268bd2 } /* Generic.Traceback */\n",
       "body .kc { color: #2aa198 } /* Keyword.Constant */\n",
       "body .kd { color: #2aa198 } /* Keyword.Declaration */\n",
       "body .kn { color: #cb4b16 } /* Keyword.Namespace */\n",
       "body .kp { color: #859900 } /* Keyword.Pseudo */\n",
       "body .kr { color: #859900 } /* Keyword.Reserved */\n",
       "body .kt { color: #b58900 } /* Keyword.Type */\n",
       "body .ld { color: #839496 } /* Literal.Date */\n",
       "body .m { color: #2aa198 } /* Literal.Number */\n",
       "body .s { color: #2aa198 } /* Literal.String */\n",
       "body .na { color: #839496 } /* Name.Attribute */\n",
       "body .nb { color: #268bd2 } /* Name.Builtin */\n",
       "body .nc { color: #268bd2 } /* Name.Class */\n",
       "body .no { color: #268bd2 } /* Name.Constant */\n",
       "body .nd { color: #268bd2 } /* Name.Decorator */\n",
       "body .ni { color: #268bd2 } /* Name.Entity */\n",
       "body .ne { color: #268bd2 } /* Name.Exception */\n",
       "body .nf { color: #268bd2 } /* Name.Function */\n",
       "body .nl { color: #268bd2 } /* Name.Label */\n",
       "body .nn { color: #268bd2 } /* Name.Namespace */\n",
       "body .nx { color: #839496 } /* Name.Other */\n",
       "body .py { color: #839496 } /* Name.Property */\n",
       "body .nt { color: #268bd2 } /* Name.Tag */\n",
       "body .nv { color: #268bd2 } /* Name.Variable */\n",
       "body .ow { color: #859900 } /* Operator.Word */\n",
       "body .pm { color: #839496 } /* Punctuation.Marker */\n",
       "body .w { color: #839496 } /* Text.Whitespace */\n",
       "body .mb { color: #2aa198 } /* Literal.Number.Bin */\n",
       "body .mf { color: #2aa198 } /* Literal.Number.Float */\n",
       "body .mh { color: #2aa198 } /* Literal.Number.Hex */\n",
       "body .mi { color: #2aa198 } /* Literal.Number.Integer */\n",
       "body .mo { color: #2aa198 } /* Literal.Number.Oct */\n",
       "body .sa { color: #2aa198 } /* Literal.String.Affix */\n",
       "body .sb { color: #2aa198 } /* Literal.String.Backtick */\n",
       "body .sc { color: #2aa198 } /* Literal.String.Char */\n",
       "body .dl { color: #2aa198 } /* Literal.String.Delimiter */\n",
       "body .sd { color: #586e75 } /* Literal.String.Doc */\n",
       "body .s2 { color: #2aa198 } /* Literal.String.Double */\n",
       "body .se { color: #2aa198 } /* Literal.String.Escape */\n",
       "body .sh { color: #2aa198 } /* Literal.String.Heredoc */\n",
       "body .si { color: #2aa198 } /* Literal.String.Interpol */\n",
       "body .sx { color: #2aa198 } /* Literal.String.Other */\n",
       "body .sr { color: #cb4b16 } /* Literal.String.Regex */\n",
       "body .s1 { color: #2aa198 } /* Literal.String.Single */\n",
       "body .ss { color: #2aa198 } /* Literal.String.Symbol */\n",
       "body .bp { color: #268bd2 } /* Name.Builtin.Pseudo */\n",
       "body .fm { color: #268bd2 } /* Name.Function.Magic */\n",
       "body .vc { color: #268bd2 } /* Name.Variable.Class */\n",
       "body .vg { color: #268bd2 } /* Name.Variable.Global */\n",
       "body .vi { color: #268bd2 } /* Name.Variable.Instance */\n",
       "body .vm { color: #268bd2 } /* Name.Variable.Magic */\n",
       "body .il { color: #2aa198 } /* Literal.Number.Integer.Long */\n",
       "\n",
       "  </style>\n",
       "</head>\n",
       "<body>\n",
       "<h2></h2>\n",
       "\n",
       "<div class=\"highlight\"><pre><span></span><span class=\"k\">SELECT</span> <span class=\"nv\">?value</span>\n",
       "<span class=\"k\">WHERE</span> <span class=\"p\">{</span>\n",
       "    <span class=\"nv\">?observation</span> <span class=\"nn\">ex</span><span class=\"p\">:</span><span class=\"nt\">isAbout</span> <span class=\"nv\">?country</span> <span class=\"p\">.</span>\n",
       "    <span class=\"nv\">?observation</span> <span class=\"nn\">ex</span><span class=\"p\">:</span><span class=\"nt\">measured</span> <span class=\"nn\">ex</span><span class=\"p\">:</span><span class=\"nt\">Population</span> <span class=\"p\">.</span>\n",
       "    <span class=\"nv\">?observation</span> <span class=\"nn\">ex</span><span class=\"p\">:</span><span class=\"nt\">value</span> <span class=\"nv\">?value</span> <span class=\"p\">.</span>\n",
       "    <span class=\"nv\">?observation</span> <span class=\"nn\">ex</span><span class=\"p\">:</span><span class=\"nt\">year</span> <span class=\"s\">&quot;2015&quot;</span><span class=\"o\">^^</span><span class=\"nn\">xsd</span><span class=\"p\">:</span><span class=\"nt\">gYear</span> <span class=\"p\">.</span>\n",
       "    <span class=\"nv\">?country</span> <span class=\"nn\">rdfs</span><span class=\"p\">:</span><span class=\"nt\">label</span> <span class=\"s\">&quot;Belgium&quot;</span><span class=\"o\">^^</span><span class=\"nn\">xsd</span><span class=\"p\">:</span><span class=\"nt\">string</span> <span class=\"p\">.</span>\n",
       "<span class=\"p\">}</span>\n",
       "</pre></div>\n",
       "</body>\n",
       "</html>\n"
      ],
      "text/plain": [
       "<IPython.core.display.HTML object>"
      ]
     },
     "metadata": {},
     "output_type": "display_data"
    },
    {
     "data": {
      "text/html": [
       "<table border=\"1\" class=\"dataframe\">\n",
       "  <thead>\n",
       "    <tr style=\"text-align: right;\">\n",
       "      <th></th>\n",
       "      <th>value</th>\n",
       "    </tr>\n",
       "  </thead>\n",
       "  <tbody>\n",
       "    <tr>\n",
       "      <th>0</th>\n",
       "      <td>11274196</td>\n",
       "    </tr>\n",
       "  </tbody>\n",
       "</table>"
      ],
      "text/plain": [
       "<IPython.core.display.HTML object>"
      ]
     },
     "metadata": {},
     "output_type": "display_data"
    }
   ],
   "source": [
    "for answer_output in output[\"answers\"]:\n",
    "    print(answer_output[\"answer\"])\n",
    "    run_query(graph, answer_output[\"answer\"])"
   ]
  }
 ],
 "metadata": {
  "kernelspec": {
   "display_name": "Python 3",
   "language": "python",
   "name": "python3"
  },
  "language_info": {
   "codemirror_mode": {
    "name": "ipython",
    "version": 3
   },
   "file_extension": ".py",
   "mimetype": "text/x-python",
   "name": "python",
   "nbconvert_exporter": "python",
   "pygments_lexer": "ipython3",
   "version": "3.10.12"
  }
 },
 "nbformat": 4,
 "nbformat_minor": 5
}

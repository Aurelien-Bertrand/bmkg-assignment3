{
 "cells": [
  {
   "cell_type": "markdown",
   "source": [
    "# BMKG - Assignment 3\n",
    "\n",
    "This notebook intends to automatically generate a SCHEMA for any given KG."
   ],
   "metadata": {
    "collapsed": false
   },
   "id": "d1ecf4af2ac11dae"
  },
  {
   "cell_type": "code",
   "outputs": [
    {
     "name": "stdout",
     "output_type": "stream",
     "text": [
      "Intel MKL WARNING: Support of Intel(R) Streaming SIMD Extensions 4.2 (Intel(R) SSE4.2) enabled only processors has been deprecated. Intel oneAPI Math Kernel Library 2025.0 will require Intel(R) Advanced Vector Extensions (Intel(R) AVX) instructions.\n",
      "Intel MKL WARNING: Support of Intel(R) Streaming SIMD Extensions 4.2 (Intel(R) SSE4.2) enabled only processors has been deprecated. Intel oneAPI Math Kernel Library 2025.0 will require Intel(R) Advanced Vector Extensions (Intel(R) AVX) instructions.\n"
     ]
    }
   ],
   "source": [
    "from operator import itemgetter\n",
    "import getpass\n",
    "import os\n",
    "\n",
    "from typing import Any\n",
    "\n",
    "from rdflib import Graph\n",
    "\n",
    "from langchain_core.runnables import RunnablePassthrough, RunnableLambda\n",
    "from langchain.memory import ConversationBufferMemory\n",
    "from langchain_core.prompts import PromptTemplate, format_document\n",
    "from langchain_core.output_parsers import StrOutputParser\n",
    "from langchain_core.messages import get_buffer_string\n",
    "from langchain_openai import OpenAI"
   ],
   "metadata": {
    "collapsed": false,
    "ExecuteTime": {
     "end_time": "2024-03-24T15:18:07.101524Z",
     "start_time": "2024-03-24T15:18:05.841620Z"
    }
   },
   "id": "616379e27251c82f",
   "execution_count": 6
  },
  {
   "cell_type": "code",
   "outputs": [],
   "source": [
    "if \"OPENAI_API_KEY\" not in os.environ:\n",
    "    os.environ[\"OPENAI_API_KEY\"] = getpass.getpass(\"Provide your OpenAI API Key\")"
   ],
   "metadata": {
    "collapsed": false,
    "ExecuteTime": {
     "end_time": "2024-03-24T15:18:14.996267Z",
     "start_time": "2024-03-24T15:18:07.102973Z"
    }
   },
   "id": "de00d5a25be72804",
   "execution_count": 7
  },
  {
   "cell_type": "markdown",
   "source": [
    "1) Get the RDF graph"
   ],
   "metadata": {
    "collapsed": false
   },
   "id": "29b25c0fea03e406"
  },
  {
   "cell_type": "code",
   "outputs": [
    {
     "name": "stdout",
     "output_type": "stream",
     "text": [
      "Number of triples:  178548\n"
     ]
    }
   ],
   "source": [
    "with open('general_representation_of_our_vocabulary.txt', 'r') as file:\n",
    "    schema = file.read()\n",
    "    \n",
    "graph = Graph()\n",
    "graph = graph.parse(\"../Assignment 1/src/graph_from_data_sources.ttl\")\n",
    "\n",
    "print(\"Number of triples: \", len(graph))"
   ],
   "metadata": {
    "collapsed": false,
    "ExecuteTime": {
     "end_time": "2024-03-24T15:35:59.746402Z",
     "start_time": "2024-03-24T15:35:54.342488Z"
    }
   },
   "id": "d56cc8e9240d6e3b",
   "execution_count": 189
  },
  {
   "cell_type": "code",
   "outputs": [],
   "source": [
    "llm = OpenAI(temperature=0)"
   ],
   "metadata": {
    "collapsed": false,
    "ExecuteTime": {
     "end_time": "2024-03-24T15:35:59.774487Z",
     "start_time": "2024-03-24T15:35:59.748601Z"
    }
   },
   "id": "7be82a9bb3943d7f",
   "execution_count": 190
  },
  {
   "cell_type": "code",
   "outputs": [],
   "source": [
    "from langchain_core.prompts import ChatPromptTemplate\n",
    "\n",
    "# Create the memory object that is used to add messages\n",
    "memory = ConversationBufferMemory(\n",
    "    return_messages=True, output_key=\"answer\", input_key=\"question\"\n",
    ")\n",
    "# Add a \"memory\" key to the input object\n",
    "loaded_memory = RunnablePassthrough.assign(\n",
    "    chat_history=RunnableLambda(memory.load_memory_variables) | itemgetter(\"history\"),\n",
    ")\n",
    "\n",
    "# Prompt to reformulate the question using the chat history\n",
    "reform_template = \"\"\"Given the following chat history and a follow up question,\n",
    "rephrase the follow up question to be a standalone straightforward question, in its original language.\n",
    "Do not answer the question! Just rephrase reusing information from the chat history.\n",
    "Make it short and straight to the point.\n",
    "\n",
    "Chat History:\n",
    "{chat_history}\n",
    "Follow up input:\n",
    "{question}\n",
    "\n",
    "Standalone question:\n",
    "\"\"\"\n",
    "REFORM_QUESTION_PROMPT = PromptTemplate.from_template(reform_template)\n",
    "\n",
    "answer_template = \"\"\"Briefly answer the question based only on the following context,\n",
    "do not use any information outside this context:\n",
    "{context}\"\"\"\n",
    "\n",
    "# Prompt to ask to answer the reformulated question\n",
    "answer_template = \"\"\"Write a valid SPARQL query to answer the question based only on the\n",
    "following schema, do not use any information outside this schema:\n",
    "{schema}\n",
    "\n",
    "Only output the query, without the prefixes. You should not use any URI in the query, \n",
    "instead add relations to exploit information you are sure about.\n",
    "\n",
    "Question: {question}\n",
    "\"\"\"\n",
    "ANSWER_PROMPT = ChatPromptTemplate.from_template(answer_template)"
   ],
   "metadata": {
    "collapsed": false,
    "ExecuteTime": {
     "end_time": "2024-03-24T15:36:27.929797Z",
     "start_time": "2024-03-24T15:36:27.927402Z"
    }
   },
   "id": "bf55da9ace49a765",
   "execution_count": 194
  },
  {
   "cell_type": "code",
   "outputs": [],
   "source": [
    "# TODO: ask it to generate a schema as well?\n",
    "\n",
    "# Reformulate the question using chat history\n",
    "reformulated_question = {\n",
    "    \"reformulated_question\": {\n",
    "        \"question\": lambda x: x[\"question\"],\n",
    "        \"chat_history\": lambda x: get_buffer_string(x[\"chat_history\"]),\n",
    "    }\n",
    "    | REFORM_QUESTION_PROMPT\n",
    "    | llm\n",
    "    | StrOutputParser(),\n",
    "}\n",
    "final_inputs = {\n",
    "    \"schema\": lambda x: schema,\n",
    "    \"question\": lambda x: print(\"💭 Reformulated question:\", x[\"reformulated_question\"]) or x[\"reformulated_question\"],\n",
    "}\n",
    "answer = {\n",
    "    \"answer\": final_inputs | ANSWER_PROMPT | llm,\n",
    "}\n",
    "# Put the chain together\n",
    "final_chain = loaded_memory | reformulated_question | answer\n",
    "\n",
    "def stream_chain(final_chain, memory: ConversationBufferMemory, inputs: dict[str, str]) -> dict[str, Any]:\n",
    "    \"\"\"Ask question, stream the answer output, and return the answer.\"\"\"\n",
    "    output = {\"answer\": \"\"}\n",
    "    for chunk in final_chain.stream(inputs):\n",
    "        if \"answer\" in chunk:\n",
    "            output[\"answer\"] += chunk[\"answer\"]\n",
    "            print(chunk[\"answer\"], end=\"\", flush=True)\n",
    "    \n",
    "    # Add messages to chat history\n",
    "    memory.save_context(inputs, {\"answer\": output[\"answer\"]})\n",
    "    \n",
    "    return output"
   ],
   "metadata": {
    "collapsed": false,
    "ExecuteTime": {
     "end_time": "2024-03-24T15:36:28.486727Z",
     "start_time": "2024-03-24T15:36:28.484348Z"
    }
   },
   "id": "28518303c93282ec",
   "execution_count": 195
  },
  {
   "cell_type": "code",
   "outputs": [
    {
     "name": "stdout",
     "output_type": "stream",
     "text": [
      "💭 Reformulated question: What was the highest CO2 concentration in Belgium and in which year was it recorded?\n",
      "\n",
      "SELECT ?year ?value\n",
      "WHERE {\n",
      "    ?observation ex:isAbout ?country .\n",
      "    ?observation ex:measured gas:CO2 .\n",
      "    ?observation ex:value ?value .\n",
      "    ?observation ex:year ?year .\n",
      "    ?country rdfs:label \"Belgium\"^^xsd:string .\n",
      "}\n",
      "ORDER BY DESC(?value)\n",
      "LIMIT 1"
     ]
    }
   ],
   "source": [
    "output = stream_chain(final_chain, memory, {\n",
    "    \"question\": \"In which year was the highest CO2 concentration in Belgium?\"}\n",
    ")"
   ],
   "metadata": {
    "collapsed": false,
    "ExecuteTime": {
     "end_time": "2024-03-24T15:36:54.049218Z",
     "start_time": "2024-03-24T15:36:51.925763Z"
    }
   },
   "id": "5ee43039f6f4af97",
   "execution_count": 199
  },
  {
   "cell_type": "code",
   "outputs": [],
   "source": [
    "import pandas as pd\n",
    "from IPython.display import display, HTML\n",
    "from pygments import highlight\n",
    "from pygments.lexers import SparqlLexer\n",
    "from pygments.formatters import HtmlFormatter\n",
    "\n",
    "def run_query(graph, query):\n",
    "    # Execute the SPARQL query\n",
    "    results = graph.query(query)\n",
    "    \n",
    "    # Display the SPARQL query\n",
    "    formatted_query = highlight(query, SparqlLexer(), HtmlFormatter(style='solarized-dark', full=True, nobackground=True))\n",
    "    display(HTML(formatted_query))\n",
    "    \n",
    "    # Convert results to a Pandas DataFrame\n",
    "    res_list = []\n",
    "    for row in results:\n",
    "        res_list.append([str(item) for item in row])\n",
    "    df = pd.DataFrame(res_list, columns=[str(var) for var in results.vars]) if len(res_list) > 0 else pd.DataFrame()\n",
    "\n",
    "    # Display the DataFrame as a table in Jupyter Notebook\n",
    "    display(HTML(df.to_html()))"
   ],
   "metadata": {
    "collapsed": false,
    "ExecuteTime": {
     "end_time": "2024-03-24T15:36:56.460757Z",
     "start_time": "2024-03-24T15:36:56.457400Z"
    }
   },
   "id": "678433e5606a55da",
   "execution_count": 200
  },
  {
   "cell_type": "code",
   "outputs": [
    {
     "name": "stdout",
     "output_type": "stream",
     "text": [
      "\n",
      "SELECT ?year ?value\n",
      "WHERE {\n",
      "    ?observation ex:isAbout ?country .\n",
      "    ?observation ex:measured gas:CO2 .\n",
      "    ?observation ex:value ?value .\n",
      "    ?observation ex:year ?year .\n",
      "    ?country rdfs:label \"Belgium\"^^xsd:string .\n",
      "}\n",
      "ORDER BY DESC(?value)\n",
      "LIMIT 1\n"
     ]
    },
    {
     "data": {
      "text/plain": "<IPython.core.display.HTML object>",
      "text/html": "<!DOCTYPE html PUBLIC \"-//W3C//DTD HTML 4.01//EN\"\n   \"http://www.w3.org/TR/html4/strict.dtd\">\n<!--\ngenerated by Pygments <https://pygments.org/>\nCopyright 2006-2023 by the Pygments team.\nLicensed under the BSD license, see LICENSE for details.\n-->\n<html>\n<head>\n  <title></title>\n  <meta http-equiv=\"content-type\" content=\"text/html; charset=None\">\n  <style type=\"text/css\">\n/*\ngenerated by Pygments <https://pygments.org/>\nCopyright 2006-2023 by the Pygments team.\nLicensed under the BSD license, see LICENSE for details.\n*/\npre { line-height: 125%; }\ntd.linenos .normal { color: #586e75; background-color: #073642; padding-left: 5px; padding-right: 5px; }\nspan.linenos { color: #586e75; background-color: #073642; padding-left: 5px; padding-right: 5px; }\ntd.linenos .special { color: #000000; background-color: #ffffc0; padding-left: 5px; padding-right: 5px; }\nspan.linenos.special { color: #000000; background-color: #ffffc0; padding-left: 5px; padding-right: 5px; }\nbody .hll { background-color: #073642 }\nbody .c { color: #586e75; font-style: italic } /* Comment */\nbody .err { color: #839496; background-color: #dc322f } /* Error */\nbody .esc { color: #839496 } /* Escape */\nbody .g { color: #839496 } /* Generic */\nbody .k { color: #859900 } /* Keyword */\nbody .l { color: #839496 } /* Literal */\nbody .n { color: #839496 } /* Name */\nbody .o { color: #586e75 } /* Operator */\nbody .x { color: #839496 } /* Other */\nbody .p { color: #839496 } /* Punctuation */\nbody .ch { color: #586e75; font-style: italic } /* Comment.Hashbang */\nbody .cm { color: #586e75; font-style: italic } /* Comment.Multiline */\nbody .cp { color: #d33682 } /* Comment.Preproc */\nbody .cpf { color: #586e75 } /* Comment.PreprocFile */\nbody .c1 { color: #586e75; font-style: italic } /* Comment.Single */\nbody .cs { color: #586e75; font-style: italic } /* Comment.Special */\nbody .gd { color: #dc322f } /* Generic.Deleted */\nbody .ge { color: #839496; font-style: italic } /* Generic.Emph */\nbody .gr { color: #dc322f } /* Generic.Error */\nbody .gh { color: #839496; font-weight: bold } /* Generic.Heading */\nbody .gi { color: #859900 } /* Generic.Inserted */\nbody .go { color: #839496 } /* Generic.Output */\nbody .gp { color: #268bd2; font-weight: bold } /* Generic.Prompt */\nbody .gs { color: #839496; font-weight: bold } /* Generic.Strong */\nbody .gu { color: #839496; text-decoration: underline } /* Generic.Subheading */\nbody .gt { color: #268bd2 } /* Generic.Traceback */\nbody .kc { color: #2aa198 } /* Keyword.Constant */\nbody .kd { color: #2aa198 } /* Keyword.Declaration */\nbody .kn { color: #cb4b16 } /* Keyword.Namespace */\nbody .kp { color: #859900 } /* Keyword.Pseudo */\nbody .kr { color: #859900 } /* Keyword.Reserved */\nbody .kt { color: #b58900 } /* Keyword.Type */\nbody .ld { color: #839496 } /* Literal.Date */\nbody .m { color: #2aa198 } /* Literal.Number */\nbody .s { color: #2aa198 } /* Literal.String */\nbody .na { color: #839496 } /* Name.Attribute */\nbody .nb { color: #268bd2 } /* Name.Builtin */\nbody .nc { color: #268bd2 } /* Name.Class */\nbody .no { color: #268bd2 } /* Name.Constant */\nbody .nd { color: #268bd2 } /* Name.Decorator */\nbody .ni { color: #268bd2 } /* Name.Entity */\nbody .ne { color: #268bd2 } /* Name.Exception */\nbody .nf { color: #268bd2 } /* Name.Function */\nbody .nl { color: #268bd2 } /* Name.Label */\nbody .nn { color: #268bd2 } /* Name.Namespace */\nbody .nx { color: #839496 } /* Name.Other */\nbody .py { color: #839496 } /* Name.Property */\nbody .nt { color: #268bd2 } /* Name.Tag */\nbody .nv { color: #268bd2 } /* Name.Variable */\nbody .ow { color: #859900 } /* Operator.Word */\nbody .pm { color: #839496 } /* Punctuation.Marker */\nbody .w { color: #839496 } /* Text.Whitespace */\nbody .mb { color: #2aa198 } /* Literal.Number.Bin */\nbody .mf { color: #2aa198 } /* Literal.Number.Float */\nbody .mh { color: #2aa198 } /* Literal.Number.Hex */\nbody .mi { color: #2aa198 } /* Literal.Number.Integer */\nbody .mo { color: #2aa198 } /* Literal.Number.Oct */\nbody .sa { color: #2aa198 } /* Literal.String.Affix */\nbody .sb { color: #2aa198 } /* Literal.String.Backtick */\nbody .sc { color: #2aa198 } /* Literal.String.Char */\nbody .dl { color: #2aa198 } /* Literal.String.Delimiter */\nbody .sd { color: #586e75 } /* Literal.String.Doc */\nbody .s2 { color: #2aa198 } /* Literal.String.Double */\nbody .se { color: #2aa198 } /* Literal.String.Escape */\nbody .sh { color: #2aa198 } /* Literal.String.Heredoc */\nbody .si { color: #2aa198 } /* Literal.String.Interpol */\nbody .sx { color: #2aa198 } /* Literal.String.Other */\nbody .sr { color: #cb4b16 } /* Literal.String.Regex */\nbody .s1 { color: #2aa198 } /* Literal.String.Single */\nbody .ss { color: #2aa198 } /* Literal.String.Symbol */\nbody .bp { color: #268bd2 } /* Name.Builtin.Pseudo */\nbody .fm { color: #268bd2 } /* Name.Function.Magic */\nbody .vc { color: #268bd2 } /* Name.Variable.Class */\nbody .vg { color: #268bd2 } /* Name.Variable.Global */\nbody .vi { color: #268bd2 } /* Name.Variable.Instance */\nbody .vm { color: #268bd2 } /* Name.Variable.Magic */\nbody .il { color: #2aa198 } /* Literal.Number.Integer.Long */\n\n  </style>\n</head>\n<body>\n<h2></h2>\n\n<div class=\"highlight\"><pre><span></span><span class=\"k\">SELECT</span> <span class=\"nv\">?year</span> <span class=\"nv\">?value</span>\n<span class=\"k\">WHERE</span> <span class=\"p\">{</span>\n    <span class=\"nv\">?observation</span> <span class=\"nn\">ex</span><span class=\"p\">:</span><span class=\"nt\">isAbout</span> <span class=\"nv\">?country</span> <span class=\"p\">.</span>\n    <span class=\"nv\">?observation</span> <span class=\"nn\">ex</span><span class=\"p\">:</span><span class=\"nt\">measured</span> <span class=\"nn\">gas</span><span class=\"p\">:</span><span class=\"nt\">CO2</span> <span class=\"p\">.</span>\n    <span class=\"nv\">?observation</span> <span class=\"nn\">ex</span><span class=\"p\">:</span><span class=\"nt\">value</span> <span class=\"nv\">?value</span> <span class=\"p\">.</span>\n    <span class=\"nv\">?observation</span> <span class=\"nn\">ex</span><span class=\"p\">:</span><span class=\"nt\">year</span> <span class=\"nv\">?year</span> <span class=\"p\">.</span>\n    <span class=\"nv\">?country</span> <span class=\"nn\">rdfs</span><span class=\"p\">:</span><span class=\"nt\">label</span> <span class=\"s\">&quot;Belgium&quot;</span><span class=\"o\">^^</span><span class=\"nn\">xsd</span><span class=\"p\">:</span><span class=\"nt\">string</span> <span class=\"p\">.</span>\n<span class=\"p\">}</span>\n<span class=\"k\">ORDER BY</span> <span class=\"k\">DESC</span><span class=\"p\">(</span><span class=\"nv\">?value</span><span class=\"p\">)</span>\n<span class=\"k\">LIMIT</span> <span class=\"mi\">1</span>\n</pre></div>\n</body>\n</html>\n"
     },
     "metadata": {},
     "output_type": "display_data"
    },
    {
     "data": {
      "text/plain": "<IPython.core.display.HTML object>",
      "text/html": "<table border=\"1\" class=\"dataframe\">\n  <thead>\n    <tr style=\"text-align: right;\">\n      <th></th>\n      <th>year</th>\n      <th>value</th>\n    </tr>\n  </thead>\n  <tbody>\n    <tr>\n      <th>0</th>\n      <td>1998</td>\n      <td>488.067140001</td>\n    </tr>\n  </tbody>\n</table>"
     },
     "metadata": {},
     "output_type": "display_data"
    }
   ],
   "source": [
    "print(output[\"answer\"])\n",
    "run_query(graph, output[\"answer\"])"
   ],
   "metadata": {
    "collapsed": false,
    "ExecuteTime": {
     "end_time": "2024-03-24T15:36:56.927242Z",
     "start_time": "2024-03-24T15:36:56.807029Z"
    }
   },
   "id": "15dd22680f0b1a4d",
   "execution_count": 201
  }
 ],
 "metadata": {
  "kernelspec": {
   "display_name": "Python 3",
   "language": "python",
   "name": "python3"
  },
  "language_info": {
   "codemirror_mode": {
    "name": "ipython",
    "version": 2
   },
   "file_extension": ".py",
   "mimetype": "text/x-python",
   "name": "python",
   "nbconvert_exporter": "python",
   "pygments_lexer": "ipython2",
   "version": "2.7.6"
  }
 },
 "nbformat": 4,
 "nbformat_minor": 5
}

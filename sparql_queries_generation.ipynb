{
 "cells": [
  {
   "cell_type": "markdown",
   "id": "d1ecf4af2ac11dae",
   "metadata": {
    "collapsed": false
   },
   "source": [
    "# BMKG - Assignment 3\n",
    "\n",
    "This notebook intends to automatically generate a SCHEMA for any given KG."
   ]
  },
  {
   "cell_type": "code",
   "execution_count": 2,
   "id": "616379e27251c82f",
   "metadata": {
    "collapsed": false,
    "ExecuteTime": {
     "end_time": "2024-03-27T16:09:35.815262Z",
     "start_time": "2024-03-27T16:09:34.060158Z"
    }
   },
   "outputs": [
    {
     "name": "stdout",
     "output_type": "stream",
     "text": [
      "Intel MKL WARNING: Support of Intel(R) Streaming SIMD Extensions 4.2 (Intel(R) SSE4.2) enabled only processors has been deprecated. Intel oneAPI Math Kernel Library 2025.0 will require Intel(R) Advanced Vector Extensions (Intel(R) AVX) instructions.\n",
      "Intel MKL WARNING: Support of Intel(R) Streaming SIMD Extensions 4.2 (Intel(R) SSE4.2) enabled only processors has been deprecated. Intel oneAPI Math Kernel Library 2025.0 will require Intel(R) Advanced Vector Extensions (Intel(R) AVX) instructions.\n"
     ]
    }
   ],
   "source": [
    "from operator import itemgetter\n",
    "import getpass\n",
    "import os\n",
    "\n",
    "from typing import Any\n",
    "\n",
    "from rdflib import Graph\n",
    "\n",
    "from langchain_core.runnables import RunnablePassthrough, RunnableLambda\n",
    "from langchain.memory import ConversationBufferMemory\n",
    "from langchain_core.prompts import PromptTemplate, format_document\n",
    "from langchain_core.output_parsers import StrOutputParser\n",
    "from langchain_core.messages import get_buffer_string\n",
    "from langchain_openai import OpenAI"
   ]
  },
  {
   "cell_type": "code",
   "execution_count": 211,
   "id": "de00d5a25be72804",
   "metadata": {
    "collapsed": false,
    "ExecuteTime": {
     "end_time": "2024-03-27T17:04:36.242367Z",
     "start_time": "2024-03-27T17:04:36.232704Z"
    }
   },
   "outputs": [],
   "source": [
    "if \"OPENAI_API_KEY\" not in os.environ:\n",
    "    os.environ[\"OPENAI_API_KEY\"] = getpass.getpass(\"Provide your OpenAI API Key\")"
   ]
  },
  {
   "cell_type": "markdown",
   "id": "29b25c0fea03e406",
   "metadata": {
    "collapsed": false
   },
   "source": [
    "1) Get the RDF graph"
   ]
  },
  {
   "cell_type": "code",
   "execution_count": 212,
   "id": "d56cc8e9240d6e3b",
   "metadata": {
    "collapsed": false,
    "ExecuteTime": {
     "end_time": "2024-03-27T17:04:37.600606Z",
     "start_time": "2024-03-27T17:04:37.360548Z"
    }
   },
   "outputs": [
    {
     "name": "stdout",
     "output_type": "stream",
     "text": [
      "Number of triples:  1873\n"
     ]
    }
   ],
   "source": [
    "with open('wikidata_drug_disease_schema.ttl', 'r') as file:\n",
    "    schema = file.read()\n",
    "    \n",
    "graph = Graph()\n",
    "graph = graph.parse(\"medical_graph.ttl\")\n",
    "\n",
    "print(\"Number of triples: \", len(graph))"
   ]
  },
  {
   "cell_type": "code",
   "execution_count": 360,
   "id": "7be82a9bb3943d7f",
   "metadata": {
    "collapsed": false,
    "ExecuteTime": {
     "end_time": "2024-03-27T18:01:35.130608Z",
     "start_time": "2024-03-27T18:01:35.108250Z"
    }
   },
   "outputs": [],
   "source": [
    "llm = OpenAI(temperature=0)"
   ]
  },
  {
   "cell_type": "code",
   "execution_count": 361,
   "id": "bf55da9ace49a765",
   "metadata": {
    "collapsed": false,
    "ExecuteTime": {
     "end_time": "2024-03-27T18:01:35.137150Z",
     "start_time": "2024-03-27T18:01:35.133790Z"
    }
   },
   "outputs": [],
   "source": [
    "from langchain_core.prompts import ChatPromptTemplate\n",
    "\n",
    "# Create the memory object that is used to add messages\n",
    "memory = ConversationBufferMemory(\n",
    "    return_messages=True, output_key=\"answer\", input_key=\"question\"\n",
    ")\n",
    "# Add a \"memory\" key to the input object\n",
    "loaded_memory = RunnablePassthrough.assign(\n",
    "    chat_history=RunnableLambda(memory.load_memory_variables) | itemgetter(\"history\"),\n",
    ")\n",
    "\n",
    "# Prompt to reformulate the question using the chat history\n",
    "reform_template = \"\"\"Given the following chat history and a follow up question,\n",
    "rephrase the follow up question to be a standalone straightforward question, in its original language.\n",
    "Do not answer the question! Just rephrase reusing information from the chat history.\n",
    "\n",
    "Chat History:\n",
    "{chat_history}\n",
    "Follow up input:\n",
    "{question}\n",
    "\n",
    "Standalone question:\n",
    "\"\"\"\n",
    "REFORM_QUESTION_PROMPT = PromptTemplate.from_template(reform_template)\n",
    "\n",
    "breakdown_template = \"\"\" Given the following question, break it down to identify the known variables. Format these variables as follows:\n",
    "Name --> Variable Type\n",
    "\n",
    "Lastly, identify what the question is looking for (including the name, if provided). Only use the information presented in the question, nothing else.\n",
    "\n",
    "Question:\n",
    "{question}\n",
    "\n",
    "Breakdown:\n",
    "\"\"\"\n",
    "BREAKDOWN_PROMPT = PromptTemplate.from_template(breakdown_template)\n",
    "\n",
    "# Prompt to ask to answer the reformulated question\n",
    "answer_template = \"\"\"Construct a valid SPARQL query based on the provided breakdown, ensuring that labels are compared in lowercase using LCASE and not directly added as triples.\n",
    "\n",
    "Based on the breakdown, the query should only retrieve the information we are looking for. Use the provided schema, although the query should not include everything!\n",
    "\n",
    "Schema:\n",
    "{schema}\n",
    "\n",
    "Breakdown:\n",
    "{breakdown}\n",
    "\n",
    "Query:\n",
    "\"\"\"\n",
    "ANSWER_PROMPT = ChatPromptTemplate.from_template(answer_template)"
   ]
  },
  {
   "cell_type": "code",
   "execution_count": 362,
   "id": "28518303c93282ec",
   "metadata": {
    "collapsed": false,
    "ExecuteTime": {
     "end_time": "2024-03-27T18:01:35.148319Z",
     "start_time": "2024-03-27T18:01:35.140799Z"
    }
   },
   "outputs": [],
   "source": [
    "# Reformulate the question using chat history\n",
    "reformulated_question = {\n",
    "    \"reformulated_question\": {\n",
    "        \"question\": lambda x: x[\"question\"],\n",
    "        \"chat_history\": lambda x: get_buffer_string(x[\"chat_history\"]),\n",
    "    }\n",
    "    | REFORM_QUESTION_PROMPT\n",
    "    | llm\n",
    "    | StrOutputParser(),\n",
    "}\n",
    "# Breakdown the question to identify what we are looking for and what we know\n",
    "question_breakdown = {\n",
    "    \"breakdown\" : {\n",
    "        \"question\": lambda x: print(\"💭 Reformulated question:\", x[\"reformulated_question\"]) or x[\"reformulated_question\"],\n",
    "    }\n",
    "    | BREAKDOWN_PROMPT\n",
    "    | llm\n",
    "    | StrOutputParser(),\n",
    "}\n",
    "final_inputs = {\n",
    "    \"schema\": lambda x: schema,\n",
    "    \"breakdown\": lambda x: print(\"💭 Question breakdown:\\n\", x[\"breakdown\"]) or x[\"breakdown\"],\n",
    "}\n",
    "answer = {\n",
    "    \"answer\": final_inputs | ANSWER_PROMPT | llm,\n",
    "}\n",
    "# Put the chain together\n",
    "final_chain = loaded_memory | reformulated_question | question_breakdown | answer\n",
    "\n",
    "def stream_chain(final_chain, memory: ConversationBufferMemory, inputs_list: list[dict[str, str]]) -> dict[str, Any]:\n",
    "    \"\"\"Ask questions, stream the answer output, and return the answers.\"\"\"\n",
    "    output = {\"answer\": []}\n",
    "    for inputs in inputs_list:\n",
    "        answer_output = \"\"\n",
    "        for chunk in final_chain.stream(inputs):\n",
    "            if \"answer\" in chunk:\n",
    "                answer_output += chunk[\"answer\"]\n",
    "                print(chunk[\"answer\"], end=\"\", flush=True)\n",
    "        \n",
    "        output[\"answer\"].append(answer_output)\n",
    "        # Add messages to chat history\n",
    "        memory.save_context(inputs, {\"answer\": answer_output})\n",
    "    \n",
    "    return output"
   ]
  },
  {
   "cell_type": "code",
   "execution_count": 363,
   "id": "5ee43039f6f4af97",
   "metadata": {
    "collapsed": false,
    "ExecuteTime": {
     "end_time": "2024-03-27T18:01:39.142005Z",
     "start_time": "2024-03-27T18:01:35.874014Z"
    }
   },
   "outputs": [
    {
     "name": "stdout",
     "output_type": "stream",
     "text": [
      "💭 Reformulated question: Which drug is recommended for treating the disease 'vomiting'?\n",
      "💭 Question breakdown:\n",
      " \n",
      "Known Variables:\n",
      "- Disease: vomiting\n",
      "\n",
      "Question is looking for:\n",
      "- Recommended drug for treating vomiting\n",
      "PREFIX ns1: <https://www.example.org/>\n",
      "PREFIX rdfs: <http://www.w3.org/2000/01/rdf-schema#>\n",
      "PREFIX wd: <http://www.wikidata.org/entity/>\n",
      "\n",
      "SELECT ?drug\n",
      "WHERE {\n",
      "    ?drug a ns1:Drug ;\n",
      "        rdfs:label ?drugLabel ;\n",
      "        ns1:treats ?disease .\n",
      "    ?disease a ns1:Disease ;\n",
      "        rdfs:label ?diseaseLabel .\n",
      "    FILTER(LCASE(?diseaseLabel) = \"vomiting\")\n",
      "}"
     ]
    }
   ],
   "source": [
    "questions = [\n",
    "    {\"question\": \"What drug should I use to treat the disease 'vomiting'?\"},\n",
    "]\n",
    "output = stream_chain(final_chain, memory, questions)"
   ]
  },
  {
   "cell_type": "code",
   "execution_count": 364,
   "id": "678433e5606a55da",
   "metadata": {
    "collapsed": false,
    "ExecuteTime": {
     "end_time": "2024-03-27T18:01:49.178330Z",
     "start_time": "2024-03-27T18:01:49.150417Z"
    }
   },
   "outputs": [],
   "source": [
    "import pandas as pd\n",
    "from IPython.display import display, HTML\n",
    "from pygments import highlight\n",
    "from pygments.lexers import SparqlLexer\n",
    "from pygments.formatters import HtmlFormatter\n",
    "\n",
    "def run_query(graph, query):\n",
    "    # Execute the SPARQL query\n",
    "    results = graph.query(query)\n",
    "    \n",
    "    # Display the SPARQL query\n",
    "    formatted_query = highlight(query, SparqlLexer(), HtmlFormatter(style='solarized-dark', full=True, nobackground=True))\n",
    "    display(HTML(formatted_query))\n",
    "    \n",
    "    # Convert results to a Pandas DataFrame\n",
    "    res_list = []\n",
    "    for row in results:\n",
    "        res_list.append([str(item) for item in row])\n",
    "    df = pd.DataFrame(res_list, columns=[str(var) for var in results.vars]) if len(res_list) > 0 else pd.DataFrame()\n",
    "\n",
    "    # Display the DataFrame as a table in Jupyter Notebook\n",
    "    display(HTML(df.to_html()))"
   ]
  },
  {
   "cell_type": "code",
   "execution_count": 365,
   "id": "15dd22680f0b1a4d",
   "metadata": {
    "collapsed": false,
    "ExecuteTime": {
     "end_time": "2024-03-27T18:01:49.689229Z",
     "start_time": "2024-03-27T18:01:49.462114Z"
    }
   },
   "outputs": [
    {
     "name": "stdout",
     "output_type": "stream",
     "text": [
      "PREFIX ns1: <https://www.example.org/>\n",
      "PREFIX rdfs: <http://www.w3.org/2000/01/rdf-schema#>\n",
      "PREFIX wd: <http://www.wikidata.org/entity/>\n",
      "\n",
      "SELECT ?drug\n",
      "WHERE {\n",
      "    ?drug a ns1:Drug ;\n",
      "        rdfs:label ?drugLabel ;\n",
      "        ns1:treats ?disease .\n",
      "    ?disease a ns1:Disease ;\n",
      "        rdfs:label ?diseaseLabel .\n",
      "    FILTER(LCASE(?diseaseLabel) = \"vomiting\")\n",
      "}\n"
     ]
    },
    {
     "data": {
      "text/plain": "<IPython.core.display.HTML object>",
      "text/html": "<!DOCTYPE html PUBLIC \"-//W3C//DTD HTML 4.01//EN\"\n   \"http://www.w3.org/TR/html4/strict.dtd\">\n<!--\ngenerated by Pygments <https://pygments.org/>\nCopyright 2006-2023 by the Pygments team.\nLicensed under the BSD license, see LICENSE for details.\n-->\n<html>\n<head>\n  <title></title>\n  <meta http-equiv=\"content-type\" content=\"text/html; charset=None\">\n  <style type=\"text/css\">\n/*\ngenerated by Pygments <https://pygments.org/>\nCopyright 2006-2023 by the Pygments team.\nLicensed under the BSD license, see LICENSE for details.\n*/\npre { line-height: 125%; }\ntd.linenos .normal { color: #586e75; background-color: #073642; padding-left: 5px; padding-right: 5px; }\nspan.linenos { color: #586e75; background-color: #073642; padding-left: 5px; padding-right: 5px; }\ntd.linenos .special { color: #000000; background-color: #ffffc0; padding-left: 5px; padding-right: 5px; }\nspan.linenos.special { color: #000000; background-color: #ffffc0; padding-left: 5px; padding-right: 5px; }\nbody .hll { background-color: #073642 }\nbody .c { color: #586e75; font-style: italic } /* Comment */\nbody .err { color: #839496; background-color: #dc322f } /* Error */\nbody .esc { color: #839496 } /* Escape */\nbody .g { color: #839496 } /* Generic */\nbody .k { color: #859900 } /* Keyword */\nbody .l { color: #839496 } /* Literal */\nbody .n { color: #839496 } /* Name */\nbody .o { color: #586e75 } /* Operator */\nbody .x { color: #839496 } /* Other */\nbody .p { color: #839496 } /* Punctuation */\nbody .ch { color: #586e75; font-style: italic } /* Comment.Hashbang */\nbody .cm { color: #586e75; font-style: italic } /* Comment.Multiline */\nbody .cp { color: #d33682 } /* Comment.Preproc */\nbody .cpf { color: #586e75 } /* Comment.PreprocFile */\nbody .c1 { color: #586e75; font-style: italic } /* Comment.Single */\nbody .cs { color: #586e75; font-style: italic } /* Comment.Special */\nbody .gd { color: #dc322f } /* Generic.Deleted */\nbody .ge { color: #839496; font-style: italic } /* Generic.Emph */\nbody .gr { color: #dc322f } /* Generic.Error */\nbody .gh { color: #839496; font-weight: bold } /* Generic.Heading */\nbody .gi { color: #859900 } /* Generic.Inserted */\nbody .go { color: #839496 } /* Generic.Output */\nbody .gp { color: #268bd2; font-weight: bold } /* Generic.Prompt */\nbody .gs { color: #839496; font-weight: bold } /* Generic.Strong */\nbody .gu { color: #839496; text-decoration: underline } /* Generic.Subheading */\nbody .gt { color: #268bd2 } /* Generic.Traceback */\nbody .kc { color: #2aa198 } /* Keyword.Constant */\nbody .kd { color: #2aa198 } /* Keyword.Declaration */\nbody .kn { color: #cb4b16 } /* Keyword.Namespace */\nbody .kp { color: #859900 } /* Keyword.Pseudo */\nbody .kr { color: #859900 } /* Keyword.Reserved */\nbody .kt { color: #b58900 } /* Keyword.Type */\nbody .ld { color: #839496 } /* Literal.Date */\nbody .m { color: #2aa198 } /* Literal.Number */\nbody .s { color: #2aa198 } /* Literal.String */\nbody .na { color: #839496 } /* Name.Attribute */\nbody .nb { color: #268bd2 } /* Name.Builtin */\nbody .nc { color: #268bd2 } /* Name.Class */\nbody .no { color: #268bd2 } /* Name.Constant */\nbody .nd { color: #268bd2 } /* Name.Decorator */\nbody .ni { color: #268bd2 } /* Name.Entity */\nbody .ne { color: #268bd2 } /* Name.Exception */\nbody .nf { color: #268bd2 } /* Name.Function */\nbody .nl { color: #268bd2 } /* Name.Label */\nbody .nn { color: #268bd2 } /* Name.Namespace */\nbody .nx { color: #839496 } /* Name.Other */\nbody .py { color: #839496 } /* Name.Property */\nbody .nt { color: #268bd2 } /* Name.Tag */\nbody .nv { color: #268bd2 } /* Name.Variable */\nbody .ow { color: #859900 } /* Operator.Word */\nbody .pm { color: #839496 } /* Punctuation.Marker */\nbody .w { color: #839496 } /* Text.Whitespace */\nbody .mb { color: #2aa198 } /* Literal.Number.Bin */\nbody .mf { color: #2aa198 } /* Literal.Number.Float */\nbody .mh { color: #2aa198 } /* Literal.Number.Hex */\nbody .mi { color: #2aa198 } /* Literal.Number.Integer */\nbody .mo { color: #2aa198 } /* Literal.Number.Oct */\nbody .sa { color: #2aa198 } /* Literal.String.Affix */\nbody .sb { color: #2aa198 } /* Literal.String.Backtick */\nbody .sc { color: #2aa198 } /* Literal.String.Char */\nbody .dl { color: #2aa198 } /* Literal.String.Delimiter */\nbody .sd { color: #586e75 } /* Literal.String.Doc */\nbody .s2 { color: #2aa198 } /* Literal.String.Double */\nbody .se { color: #2aa198 } /* Literal.String.Escape */\nbody .sh { color: #2aa198 } /* Literal.String.Heredoc */\nbody .si { color: #2aa198 } /* Literal.String.Interpol */\nbody .sx { color: #2aa198 } /* Literal.String.Other */\nbody .sr { color: #cb4b16 } /* Literal.String.Regex */\nbody .s1 { color: #2aa198 } /* Literal.String.Single */\nbody .ss { color: #2aa198 } /* Literal.String.Symbol */\nbody .bp { color: #268bd2 } /* Name.Builtin.Pseudo */\nbody .fm { color: #268bd2 } /* Name.Function.Magic */\nbody .vc { color: #268bd2 } /* Name.Variable.Class */\nbody .vg { color: #268bd2 } /* Name.Variable.Global */\nbody .vi { color: #268bd2 } /* Name.Variable.Instance */\nbody .vm { color: #268bd2 } /* Name.Variable.Magic */\nbody .il { color: #2aa198 } /* Literal.Number.Integer.Long */\n\n  </style>\n</head>\n<body>\n<h2></h2>\n\n<div class=\"highlight\"><pre><span></span><span class=\"k\">PREFIX</span> <span class=\"nn\">ns1</span><span class=\"p\">:</span> <span class=\"nl\">&lt;https://www.example.org/&gt;</span>\n<span class=\"k\">PREFIX</span> <span class=\"nn\">rdfs</span><span class=\"p\">:</span> <span class=\"nl\">&lt;http://www.w3.org/2000/01/rdf-schema#&gt;</span>\n<span class=\"k\">PREFIX</span> <span class=\"nn\">wd</span><span class=\"p\">:</span> <span class=\"nl\">&lt;http://www.wikidata.org/entity/&gt;</span>\n\n<span class=\"k\">SELECT</span> <span class=\"nv\">?drug</span>\n<span class=\"k\">WHERE</span> <span class=\"p\">{</span>\n    <span class=\"nv\">?drug</span> <span class=\"k\">a</span> <span class=\"nn\">ns1</span><span class=\"p\">:</span><span class=\"nt\">Drug</span> <span class=\"p\">;</span>\n        <span class=\"nn\">rdfs</span><span class=\"p\">:</span><span class=\"nt\">label</span> <span class=\"nv\">?drugLabel</span> <span class=\"p\">;</span>\n        <span class=\"nn\">ns1</span><span class=\"p\">:</span><span class=\"nt\">treats</span> <span class=\"nv\">?disease</span> <span class=\"p\">.</span>\n    <span class=\"nv\">?disease</span> <span class=\"k\">a</span> <span class=\"nn\">ns1</span><span class=\"p\">:</span><span class=\"nt\">Disease</span> <span class=\"p\">;</span>\n        <span class=\"nn\">rdfs</span><span class=\"p\">:</span><span class=\"nt\">label</span> <span class=\"nv\">?diseaseLabel</span> <span class=\"p\">.</span>\n    <span class=\"k\">FILTER</span><span class=\"p\">(</span><span class=\"nf\">LCASE</span><span class=\"p\">(</span><span class=\"nv\">?diseaseLabel</span><span class=\"p\">)</span> <span class=\"o\">=</span> <span class=\"s\">&quot;vomiting&quot;</span><span class=\"p\">)</span>\n<span class=\"p\">}</span>\n</pre></div>\n</body>\n</html>\n"
     },
     "metadata": {},
     "output_type": "display_data"
    },
    {
     "data": {
      "text/plain": "<IPython.core.display.HTML object>",
      "text/html": "<table border=\"1\" class=\"dataframe\">\n  <thead>\n    <tr style=\"text-align: right;\">\n      <th></th>\n      <th>drug</th>\n    </tr>\n  </thead>\n  <tbody>\n    <tr>\n      <th>0</th>\n      <td>http://www.wikidata.org/entity/Q419079</td>\n    </tr>\n    <tr>\n      <th>1</th>\n      <td>http://www.wikidata.org/entity/Q7263592</td>\n    </tr>\n  </tbody>\n</table>"
     },
     "metadata": {},
     "output_type": "display_data"
    }
   ],
   "source": [
    "for answer_output in output[\"answer\"]:\n",
    "    print(answer_output)\n",
    "    run_query(graph, answer_output)"
   ]
  }
 ],
 "metadata": {
  "kernelspec": {
   "display_name": "Python 3",
   "language": "python",
   "name": "python3"
  },
  "language_info": {
   "codemirror_mode": {
    "name": "ipython",
    "version": 3
   },
   "file_extension": ".py",
   "mimetype": "text/x-python",
   "name": "python",
   "nbconvert_exporter": "python",
   "pygments_lexer": "ipython3",
   "version": "3.10.12"
  }
 },
 "nbformat": 4,
 "nbformat_minor": 5
}

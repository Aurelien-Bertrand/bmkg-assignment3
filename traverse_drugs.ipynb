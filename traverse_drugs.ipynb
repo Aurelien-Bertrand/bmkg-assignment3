{
 "cells": [
  {
   "cell_type": "code",
   "execution_count": 25,
   "outputs": [],
   "source": [
    "import rdflib\n",
    "import networkx as nx\n",
    "from rdflib.extras.external_graph_libs import rdflib_to_networkx_digraph\n",
    "from rdflib.extras.external_graph_libs import rdflib_to_networkx_multidigraph"
   ],
   "metadata": {
    "collapsed": false,
    "ExecuteTime": {
     "end_time": "2024-03-27T17:22:53.934450200Z",
     "start_time": "2024-03-27T17:22:53.597049500Z"
    }
   },
   "id": "1134484aeab78ca4"
  },
  {
   "cell_type": "code",
   "execution_count": 26,
   "id": "initial_id",
   "metadata": {
    "collapsed": true,
    "ExecuteTime": {
     "end_time": "2024-03-27T17:22:53.981869400Z",
     "start_time": "2024-03-27T17:22:53.602111300Z"
    }
   },
   "outputs": [
    {
     "data": {
      "text/plain": "<Graph identifier=N735746bf0d9f4be99758700e3d5e9ec3 (<class 'rdflib.graph.Graph'>)>"
     },
     "execution_count": 26,
     "metadata": {},
     "output_type": "execute_result"
    }
   ],
   "source": [
    "g = rdflib.Graph()\n",
    "g.parse('medical_graph.ttl', format='ttl')"
   ]
  },
  {
   "cell_type": "code",
   "execution_count": 27,
   "outputs": [],
   "source": [
    "import sys\n",
    "#!{sys.executable} -m pip install pandas oxrdflib Pygments\n",
    "\n",
    "import pandas as pd\n",
    "from IPython.display import display, HTML\n",
    "from pygments import highlight\n",
    "from pygments.lexers import SparqlLexer\n",
    "from pygments.formatters import HtmlFormatter\n",
    "from rdflib import Graph\n",
    "\n",
    "def run_query(graph, query_path):\n",
    "    try:\n",
    "        with open(query_path, 'r') as file:\n",
    "            query = file.read()\n",
    "    except Exception as _e:\n",
    "        print(f\"No file for {query_path}\")\n",
    "        return\n",
    "    results = graph.query(query)\n",
    "    # Display the SPARQL query\n",
    "    formatted_query = highlight(query, SparqlLexer(), HtmlFormatter(style='solarized-dark', full=True, nobackground=True))\n",
    "    display(HTML(formatted_query))\n",
    "    # Convert results to a Pandas DataFrame\n",
    "    res_list = []\n",
    "    for row in results:\n",
    "        res_list.append([str(item) for item in row])\n",
    "    df = pd.DataFrame(res_list, columns=[str(var) for var in results.vars]) if len(res_list) > 0 else pd.DataFrame()\n",
    "    # Display the DataFrame as a table in Jupyter Notebook\n",
    "    return df\n",
    "    #display(HTML(df.to_html()))"
   ],
   "metadata": {
    "collapsed": false,
    "ExecuteTime": {
     "end_time": "2024-03-27T17:22:53.981869400Z",
     "start_time": "2024-03-27T17:22:53.819976100Z"
    }
   },
   "id": "56d7697d7dd75be4"
  },
  {
   "cell_type": "code",
   "execution_count": 28,
   "outputs": [
    {
     "name": "stdout",
     "output_type": "stream",
     "text": [
      "No file for query.sparql\n"
     ]
    }
   ],
   "source": [
    "# make a query for the graph\n",
    "query_path = 'query.sparql'\n",
    "df = run_query(g, query_path)"
   ],
   "metadata": {
    "collapsed": false,
    "ExecuteTime": {
     "end_time": "2024-03-27T17:22:53.981869400Z",
     "start_time": "2024-03-27T17:22:53.823006600Z"
    }
   },
   "id": "c12b2f2b608381b7"
  },
  {
   "cell_type": "code",
   "execution_count": 29,
   "outputs": [],
   "source": [
    "mdg = rdflib_to_networkx_multidigraph(g)\n",
    "dg = rdflib_to_networkx_digraph(g)"
   ],
   "metadata": {
    "collapsed": false,
    "ExecuteTime": {
     "end_time": "2024-03-27T17:22:53.981869400Z",
     "start_time": "2024-03-27T17:22:53.845667800Z"
    }
   },
   "id": "15e60f41f25a2fab"
  },
  {
   "cell_type": "code",
   "execution_count": 30,
   "outputs": [
    {
     "name": "stdout",
     "output_type": "stream",
     "text": [
      "1160\n"
     ]
    }
   ],
   "source": [
    "# amout of nodes\n",
    "print(len(dg.nodes()))"
   ],
   "metadata": {
    "collapsed": false,
    "ExecuteTime": {
     "end_time": "2024-03-27T17:22:53.989879300Z",
     "start_time": "2024-03-27T17:22:53.918430200Z"
    }
   },
   "id": "8a740a2a0bd28670"
  },
  {
   "cell_type": "code",
   "execution_count": 31,
   "outputs": [
    {
     "name": "stdout",
     "output_type": "stream",
     "text": [
      "1873\n"
     ]
    }
   ],
   "source": [
    "# amount of edges\n",
    "print(len(dg.edges()))"
   ],
   "metadata": {
    "collapsed": false,
    "ExecuteTime": {
     "end_time": "2024-03-27T17:22:53.998256200Z",
     "start_time": "2024-03-27T17:22:53.934450200Z"
    }
   },
   "id": "fbfd3a6abf28a5b2"
  },
  {
   "cell_type": "code",
   "execution_count": 32,
   "outputs": [
    {
     "data": {
      "text/plain": "                                             0   1\n0       http://www.wikidata.org/entity/Q131742  {}\n1         http://www.wikidata.org/entity/Q6844  {}\n2     http://www.wikidata.org/entity/Q19597688  {}\n3                 https://www.example.org/Drug  {}\n4       http://www.wikidata.org/entity/Q842428  {}\n...                                        ...  ..\n1155                   opportunistic infection  {}\n1156                                      food  {}\n1157                              food allergy  {}\n1158                     migraine without aura  {}\n1159                                  COVID-19  {}\n\n[1160 rows x 2 columns]",
      "text/html": "<div>\n<style scoped>\n    .dataframe tbody tr th:only-of-type {\n        vertical-align: middle;\n    }\n\n    .dataframe tbody tr th {\n        vertical-align: top;\n    }\n\n    .dataframe thead th {\n        text-align: right;\n    }\n</style>\n<table border=\"1\" class=\"dataframe\">\n  <thead>\n    <tr style=\"text-align: right;\">\n      <th></th>\n      <th>0</th>\n      <th>1</th>\n    </tr>\n  </thead>\n  <tbody>\n    <tr>\n      <th>0</th>\n      <td>http://www.wikidata.org/entity/Q131742</td>\n      <td>{}</td>\n    </tr>\n    <tr>\n      <th>1</th>\n      <td>http://www.wikidata.org/entity/Q6844</td>\n      <td>{}</td>\n    </tr>\n    <tr>\n      <th>2</th>\n      <td>http://www.wikidata.org/entity/Q19597688</td>\n      <td>{}</td>\n    </tr>\n    <tr>\n      <th>3</th>\n      <td>https://www.example.org/Drug</td>\n      <td>{}</td>\n    </tr>\n    <tr>\n      <th>4</th>\n      <td>http://www.wikidata.org/entity/Q842428</td>\n      <td>{}</td>\n    </tr>\n    <tr>\n      <th>...</th>\n      <td>...</td>\n      <td>...</td>\n    </tr>\n    <tr>\n      <th>1155</th>\n      <td>opportunistic infection</td>\n      <td>{}</td>\n    </tr>\n    <tr>\n      <th>1156</th>\n      <td>food</td>\n      <td>{}</td>\n    </tr>\n    <tr>\n      <th>1157</th>\n      <td>food allergy</td>\n      <td>{}</td>\n    </tr>\n    <tr>\n      <th>1158</th>\n      <td>migraine without aura</td>\n      <td>{}</td>\n    </tr>\n    <tr>\n      <th>1159</th>\n      <td>COVID-19</td>\n      <td>{}</td>\n    </tr>\n  </tbody>\n</table>\n<p>1160 rows × 2 columns</p>\n</div>"
     },
     "execution_count": 32,
     "metadata": {},
     "output_type": "execute_result"
    }
   ],
   "source": [
    "import pandas as pd\n",
    "nodes = pd.DataFrame(dg.nodes(data=True))\n",
    "nodes"
   ],
   "metadata": {
    "collapsed": false,
    "ExecuteTime": {
     "end_time": "2024-03-27T17:22:54.252366300Z",
     "start_time": "2024-03-27T17:22:53.950226600Z"
    }
   },
   "id": "4a6c46982fb220da"
  },
  {
   "cell_type": "code",
   "execution_count": 33,
   "outputs": [
    {
     "data": {
      "text/plain": "                                              0  \\\n0        http://www.wikidata.org/entity/Q131742   \n1        http://www.wikidata.org/entity/Q131742   \n2        http://www.wikidata.org/entity/Q131742   \n3        http://www.wikidata.org/entity/Q131742   \n4        http://www.wikidata.org/entity/Q131742   \n...                                         ...   \n1868  http://www.wikidata.org/entity/Q107359303   \n1869    http://www.wikidata.org/entity/Q3316140   \n1870    http://www.wikidata.org/entity/Q3316140   \n1871    http://www.wikidata.org/entity/Q4340209   \n1872    http://www.wikidata.org/entity/Q4340209   \n\n                                            1  \\\n0        http://www.wikidata.org/entity/Q6844   \n1     http://www.wikidata.org/entity/Q1607636   \n2                                   hepatitis   \n3      http://www.wikidata.org/entity/Q192360   \n4      http://www.wikidata.org/entity/Q183425   \n...                                       ...   \n1868   http://www.wikidata.org/entity/Q953638   \n1869          https://www.example.org/Symptom   \n1870                  emotional dysregulation   \n1871                        mental depression   \n1872          https://www.example.org/Symptom   \n\n                                                      2  \n0     {'triples': [('http://www.wikidata.org/entity/...  \n1     {'triples': [('http://www.wikidata.org/entity/...  \n2     {'triples': [('http://www.wikidata.org/entity/...  \n3     {'triples': [('http://www.wikidata.org/entity/...  \n4     {'triples': [('http://www.wikidata.org/entity/...  \n...                                                 ...  \n1868  {'triples': [('http://www.wikidata.org/entity/...  \n1869  {'triples': [('http://www.wikidata.org/entity/...  \n1870  {'triples': [('http://www.wikidata.org/entity/...  \n1871  {'triples': [('http://www.wikidata.org/entity/...  \n1872  {'triples': [('http://www.wikidata.org/entity/...  \n\n[1873 rows x 3 columns]",
      "text/html": "<div>\n<style scoped>\n    .dataframe tbody tr th:only-of-type {\n        vertical-align: middle;\n    }\n\n    .dataframe tbody tr th {\n        vertical-align: top;\n    }\n\n    .dataframe thead th {\n        text-align: right;\n    }\n</style>\n<table border=\"1\" class=\"dataframe\">\n  <thead>\n    <tr style=\"text-align: right;\">\n      <th></th>\n      <th>0</th>\n      <th>1</th>\n      <th>2</th>\n    </tr>\n  </thead>\n  <tbody>\n    <tr>\n      <th>0</th>\n      <td>http://www.wikidata.org/entity/Q131742</td>\n      <td>http://www.wikidata.org/entity/Q6844</td>\n      <td>{'triples': [('http://www.wikidata.org/entity/...</td>\n    </tr>\n    <tr>\n      <th>1</th>\n      <td>http://www.wikidata.org/entity/Q131742</td>\n      <td>http://www.wikidata.org/entity/Q1607636</td>\n      <td>{'triples': [('http://www.wikidata.org/entity/...</td>\n    </tr>\n    <tr>\n      <th>2</th>\n      <td>http://www.wikidata.org/entity/Q131742</td>\n      <td>hepatitis</td>\n      <td>{'triples': [('http://www.wikidata.org/entity/...</td>\n    </tr>\n    <tr>\n      <th>3</th>\n      <td>http://www.wikidata.org/entity/Q131742</td>\n      <td>http://www.wikidata.org/entity/Q192360</td>\n      <td>{'triples': [('http://www.wikidata.org/entity/...</td>\n    </tr>\n    <tr>\n      <th>4</th>\n      <td>http://www.wikidata.org/entity/Q131742</td>\n      <td>http://www.wikidata.org/entity/Q183425</td>\n      <td>{'triples': [('http://www.wikidata.org/entity/...</td>\n    </tr>\n    <tr>\n      <th>...</th>\n      <td>...</td>\n      <td>...</td>\n      <td>...</td>\n    </tr>\n    <tr>\n      <th>1868</th>\n      <td>http://www.wikidata.org/entity/Q107359303</td>\n      <td>http://www.wikidata.org/entity/Q953638</td>\n      <td>{'triples': [('http://www.wikidata.org/entity/...</td>\n    </tr>\n    <tr>\n      <th>1869</th>\n      <td>http://www.wikidata.org/entity/Q3316140</td>\n      <td>https://www.example.org/Symptom</td>\n      <td>{'triples': [('http://www.wikidata.org/entity/...</td>\n    </tr>\n    <tr>\n      <th>1870</th>\n      <td>http://www.wikidata.org/entity/Q3316140</td>\n      <td>emotional dysregulation</td>\n      <td>{'triples': [('http://www.wikidata.org/entity/...</td>\n    </tr>\n    <tr>\n      <th>1871</th>\n      <td>http://www.wikidata.org/entity/Q4340209</td>\n      <td>mental depression</td>\n      <td>{'triples': [('http://www.wikidata.org/entity/...</td>\n    </tr>\n    <tr>\n      <th>1872</th>\n      <td>http://www.wikidata.org/entity/Q4340209</td>\n      <td>https://www.example.org/Symptom</td>\n      <td>{'triples': [('http://www.wikidata.org/entity/...</td>\n    </tr>\n  </tbody>\n</table>\n<p>1873 rows × 3 columns</p>\n</div>"
     },
     "execution_count": 33,
     "metadata": {},
     "output_type": "execute_result"
    }
   ],
   "source": [
    "edges = pd.DataFrame(dg.edges(data=True))\n",
    "edges"
   ],
   "metadata": {
    "collapsed": false,
    "ExecuteTime": {
     "end_time": "2024-03-27T17:22:54.297932Z",
     "start_time": "2024-03-27T17:22:54.018142100Z"
    }
   },
   "id": "ebea076681ef8e8e"
  },
  {
   "cell_type": "code",
   "execution_count": 34,
   "outputs": [
    {
     "name": "stdout",
     "output_type": "stream",
     "text": [
      "(rdflib.term.URIRef('http://www.wikidata.org/entity/Q19597688'), {})\n"
     ]
    }
   ],
   "source": [
    "count = 0\n",
    "# ephedra treats -> rhinitis -> what are the symphoms\n",
    "\n",
    "# http://www.wikidata.org/entity/Q13530468,ephedra,\"{'triples': [('http://www.wikidata.org/entity/Q13530468', 'http://www.w3.org/2000/01/rdf-schema#label', 'ephedra')], 'weight': 1}\"\n",
    "\n",
    "# http://www.wikidata.org/entity/Q114085,rhinitis\n",
    "# treated by http://www.wikidata.org/entity/Q13530468,http://www.wikidata.org/entity/Q114085,\"{'triples': [('http://www.wikidata.org/entity/Q13530468', 'https://www.example.org/treats', 'http://www.wikidata.org/entity/Q114085')], 'weight': 1}\"\n",
    "\n",
    "# http://www.wikidata.org/entity/Q114085,http://www.wikidata.org/entity/Q3245488,\"{'triples': [('http://www.wikidata.org/entity/Q114085', 'https://www.example.org/hasSymptom', 'http://www.wikidata.org/entity/Q3245488')], 'weight': 1}\"\n",
    "\n",
    "# http://www.wikidata.org/entity/Q13530468,http://www.wikidata.org/entity/Q114085,\"{'triples': [('http://www.wikidata.org/entity/Q13530468', 'https://www.example.org/treats', 'http://www.wikidata.org/entity/Q114085')], 'weight': 1}\"\n",
    "\n",
    "\n",
    "# {'triples': [('http://www.wikidata.org/entity/Q8349689', 'http://www.w3.org/1999/02/22-rdf-syntax-ns#type', 'https://www.example.org/Cause')], 'weight': 1}\n",
    "# {'triples': [('http://www.wikidata.org/entity/Q8349689', 'http://www.w3.org/2000/01/rdf-schema#label', 'physical condition')], 'weight': 1}\n",
    "# http://www.wikidata.org/entity/Q147778 treats it\n",
    "# 'http://www.wikidata.org/entity/Q19597688'): # DRUg?\n",
    "# label ledipasvir/sofosbuvir\n",
    "for node in dg.nodes(data=True):\n",
    "    if node[0] == rdflib.term.URIRef('http://www.wikidata.org/entity/Q19597688'): # disease\n",
    "        print(node)"
   ],
   "metadata": {
    "collapsed": false,
    "ExecuteTime": {
     "end_time": "2024-03-27T17:22:54.349745300Z",
     "start_time": "2024-03-27T17:22:54.053713400Z"
    }
   },
   "id": "bdd08b3da389483d"
  },
  {
   "cell_type": "code",
   "execution_count": 96,
   "outputs": [],
   "source": [
    "def multi_hop_reasoning(query_entity, target_relation, graph, relation):\n",
    "    visited = set()\n",
    "    queue = [(query_entity, [])]  # Start with the query entity and an empty relation path\n",
    "    test = []\n",
    "    while queue:\n",
    "        entity, relation_path = queue.pop(0)\n",
    "        if entity == target_relation:\n",
    "            return test  # Return the test list instead of the relation path\n",
    "        if entity not in visited:\n",
    "            visited.add(entity)\n",
    "            for neighbor in graph.neighbors(entity):\n",
    "                edge = graph.get_edge_data(entity, neighbor)\n",
    "                if edge['triples'][0][1] == rdflib.term.URIRef(relation):\n",
    "                    test.append(str(neighbor))\n",
    "                new_path = relation_path + [(entity, neighbor)]\n",
    "                queue.append((neighbor, new_path))\n",
    "    return None  # Return None if the target relation is not found"
   ],
   "metadata": {
    "collapsed": false,
    "ExecuteTime": {
     "end_time": "2024-03-27T17:50:54.419413800Z",
     "start_time": "2024-03-27T17:50:54.401567800Z"
    }
   },
   "id": "9dc7a0e3be4a9dbb"
  },
  {
   "cell_type": "code",
   "execution_count": 97,
   "outputs": [
    {
     "name": "stdout",
     "output_type": "stream",
     "text": [
      "Relation path: ['http://www.wikidata.org/entity/Q3245488', 'http://www.wikidata.org/entity/Q21118859', 'http://www.wikidata.org/entity/Q86', 'http://www.wikidata.org/entity/Q35830', 'http://www.wikidata.org/entity/Q1115038', 'http://www.wikidata.org/entity/Q517104', 'http://www.wikidata.org/entity/Q35805', 'http://www.wikidata.org/entity/Q101991', 'http://www.wikidata.org/entity/Q693058']\n"
     ]
    }
   ],
   "source": [
    "# traverse the graph from france to portugal\n",
    "# ephedra\n",
    "query_entity = rdflib.term.URIRef('http://www.wikidata.org/entity/Q13530468')\n",
    "target_relation = rdflib.term.URIRef('http://www.wikidata.org/entity/Q3245488')\n",
    "result = multi_hop_reasoning(query_entity, target_relation, dg, 'https://www.example.org/hasSymptom')\n",
    "if result:\n",
    "    print(\"Relation path:\", result)\n",
    "else:\n",
    "    print(\"No relation path found between the entities.\")"
   ],
   "metadata": {
    "collapsed": false,
    "ExecuteTime": {
     "end_time": "2024-03-27T17:50:55.255429700Z",
     "start_time": "2024-03-27T17:50:55.222491300Z"
    }
   },
   "id": "ceadee7c448b1d97"
  }
 ],
 "metadata": {
  "kernelspec": {
   "display_name": "Python 3",
   "language": "python",
   "name": "python3"
  },
  "language_info": {
   "codemirror_mode": {
    "name": "ipython",
    "version": 2
   },
   "file_extension": ".py",
   "mimetype": "text/x-python",
   "name": "python",
   "nbconvert_exporter": "python",
   "pygments_lexer": "ipython2",
   "version": "2.7.6"
  }
 },
 "nbformat": 4,
 "nbformat_minor": 5
}

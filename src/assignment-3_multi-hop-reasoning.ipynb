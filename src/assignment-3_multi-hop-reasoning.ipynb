{
 "cells": [
  {
   "cell_type": "markdown",
   "id": "d1ecf4af2ac11dae",
   "metadata": {},
   "source": [
    "# BMKG - Assignment 3\n",
    "## Group 6"
   ]
  },
  {
   "cell_type": "code",
   "execution_count": 1,
   "id": "616379e27251c82f",
   "metadata": {
    "ExecuteTime": {
     "end_time": "2024-03-27T21:12:39.436310Z",
     "start_time": "2024-03-27T21:12:37.813395Z"
    }
   },
   "outputs": [
    {
     "name": "stdout",
     "output_type": "stream",
     "text": [
      "Intel MKL WARNING: Support of Intel(R) Streaming SIMD Extensions 4.2 (Intel(R) SSE4.2) enabled only processors has been deprecated. Intel oneAPI Math Kernel Library 2025.0 will require Intel(R) Advanced Vector Extensions (Intel(R) AVX) instructions.\n",
      "Intel MKL WARNING: Support of Intel(R) Streaming SIMD Extensions 4.2 (Intel(R) SSE4.2) enabled only processors has been deprecated. Intel oneAPI Math Kernel Library 2025.0 will require Intel(R) Advanced Vector Extensions (Intel(R) AVX) instructions.\n"
     ]
    }
   ],
   "source": [
    "from operator import itemgetter\n",
    "import getpass\n",
    "import os\n",
    "\n",
    "from typing import Any\n",
    "\n",
    "from langchain_core.runnables import RunnablePassthrough, RunnableLambda\n",
    "from langchain.memory import ConversationBufferMemory\n",
    "from langchain_core.prompts import PromptTemplate\n",
    "from langchain_core.output_parsers import StrOutputParser\n",
    "from langchain_core.messages import get_buffer_string\n",
    "from langchain_openai import OpenAI\n",
    "\n",
    "from rdflib import Graph, URIRef, Literal, Namespace\n",
    "from rdflib.namespace import RDF\n",
    "\n",
    "from SPARQLWrapper import SPARQLWrapper, JSON"
   ]
  },
  {
   "cell_type": "code",
   "execution_count": 2,
   "id": "de00d5a25be72804",
   "metadata": {
    "ExecuteTime": {
     "end_time": "2024-03-27T21:12:43.158966Z",
     "start_time": "2024-03-27T21:12:39.437079Z"
    }
   },
   "outputs": [],
   "source": [
    "if \"OPENAI_API_KEY\" not in os.environ:\n",
    "    os.environ[\"OPENAI_API_KEY\"] = getpass.getpass(\"Provide your OpenAI API Key\")"
   ]
  },
  {
   "cell_type": "markdown",
   "id": "29b25c0fea03e406",
   "metadata": {},
   "source": [
    "1) Get the RDF graph"
   ]
  },
  {
   "cell_type": "code",
   "execution_count": 3,
   "id": "1b22448a",
   "metadata": {
    "ExecuteTime": {
     "end_time": "2024-03-27T21:12:43.159998Z",
     "start_time": "2024-03-27T21:12:43.147260Z"
    }
   },
   "outputs": [],
   "source": [
    "WD = Namespace(\"http://www.wikidata.org/entity/\")\n",
    "RDFS = Namespace(\"http://www.w3.org/2000/01/rdf-schema#\")\n",
    "ex = Namespace(\"https://www.example.org/\")\n",
    "wdt = Namespace(\"https://www.wikidata.org/prop/direct/\")"
   ]
  },
  {
   "cell_type": "code",
   "execution_count": 4,
   "id": "f8220ecc",
   "metadata": {
    "ExecuteTime": {
     "end_time": "2024-03-27T21:12:43.161928Z",
     "start_time": "2024-03-27T21:12:43.156759Z"
    }
   },
   "outputs": [],
   "source": [
    "sparql_query = \"\"\"\n",
    "SELECT DISTINCT ?drug ?drugLabel ?disease ?diseaseLabel ?cause ?causeLabel ?symptom ?symptomLabel ?sideEffect ?sideEffectLabel ?gene ?geneLabel\n",
    "WHERE {\n",
    "  ?drug wdt:P31 wd:Q12140 .  # medicine\n",
    "  ?drug wdt:P2175 ?disease .    # treats disease\n",
    "  OPTIONAL { ?disease wdt:P828 ?cause } .  # cause of disease\n",
    "  OPTIONAL { ?disease wdt:P780 ?symptom } .  # symptom/complaint of disease\n",
    "  OPTIONAL { ?drug wdt:P780 ?sideEffect } .  # potential side effect\n",
    "  OPTIONAL { ?disease wdt:P1057 ?gene } .  # gene associated with disease\n",
    "  SERVICE wikibase:label {\n",
    "    bd:serviceParam wikibase:language \"en\" .\n",
    "  }\n",
    "}\n",
    "\"\"\""
   ]
  },
  {
   "cell_type": "code",
   "execution_count": 5,
   "id": "5f476e8e",
   "metadata": {
    "ExecuteTime": {
     "end_time": "2024-03-27T21:12:45.997950Z",
     "start_time": "2024-03-27T21:12:43.170461Z"
    }
   },
   "outputs": [
    {
     "data": {
      "text/plain": "<Graph identifier=N803db38b79c24fb196dbf0583adea123 (<class 'rdflib.graph.Graph'>)>"
     },
     "execution_count": 5,
     "metadata": {},
     "output_type": "execute_result"
    }
   ],
   "source": [
    "sparql = SPARQLWrapper(\"https://query.wikidata.org/sparql\", agent=\"Mozilla/5.0 (X11; Linux x86_64) AppleWebKit/537.11 (KHTML, like Gecko) Chrome/23.0.1271.64 Safari/537.11\")\n",
    "sparql.setQuery(sparql_query)\n",
    "sparql.setReturnFormat(JSON)\n",
    "results = sparql.query().convert()\n",
    "\n",
    "# Create an RDF graph\n",
    "g = Graph()\n",
    "\n",
    "# Bind namespaces\n",
    "g.bind(\"wd\", WD)\n",
    "g.bind(\"wdt\", wdt)\n",
    "g.bind(\"rdfs\", RDFS)\n",
    "\n",
    "# Process query results\n",
    "for result in results[\"results\"][\"bindings\"]:\n",
    "    drug = URIRef(result[\"drug\"][\"value\"])\n",
    "    disease = URIRef(result[\"disease\"][\"value\"])\n",
    "\n",
    "    # Add RDF types\n",
    "    g.add((drug, RDF.type, ex.Drug))\n",
    "    g.add((disease, RDF.type, ex.Disease))\n",
    "    if \"cause\" in result:\n",
    "        cause = URIRef(result[\"cause\"][\"value\"])\n",
    "        g.add((cause, RDF.type, ex.Cause))\n",
    "    if \"symptom\" in result:\n",
    "        symptom = URIRef(result[\"symptom\"][\"value\"])\n",
    "        g.add((symptom, RDF.type, ex.Symptom))\n",
    "    if \"sideEffect\" in result:\n",
    "        side_effect = URIRef(result[\"sideEffect\"][\"value\"])\n",
    "        g.add((side_effect, RDF.type, ex.SideEffect))\n",
    "    if \"gene\" in result:\n",
    "        gene = URIRef(result[\"gene\"][\"value\"])\n",
    "        g.add((gene, RDF.type, ex.Gene))\n",
    "\n",
    "    # Add labels\n",
    "    g.add((drug, RDFS.label, Literal(result[\"drugLabel\"][\"value\"])))\n",
    "    g.add((disease, RDFS.label, Literal(result[\"diseaseLabel\"][\"value\"])))\n",
    "    if \"cause\" in result:\n",
    "        g.add((cause, RDFS.label, Literal(result[\"causeLabel\"][\"value\"])))\n",
    "    if \"symptom\" in result:\n",
    "        g.add((symptom, RDFS.label, Literal(result[\"symptomLabel\"][\"value\"])))\n",
    "    if \"sideEffect\" in result:\n",
    "        g.add((side_effect, RDFS.label, Literal(result[\"sideEffectLabel\"][\"value\"])))\n",
    "    if \"gene\" in result:\n",
    "        g.add((gene, RDFS.label, Literal(result[\"geneLabel\"][\"value\"])))\n",
    "\n",
    "    # Add relationships\n",
    "    g.add((drug, ex.treats, disease))\n",
    "    if \"cause\" in result:\n",
    "        g.add((disease, ex.hasCause, cause))\n",
    "    if \"symptom\" in result:\n",
    "        g.add((disease, ex.hasSymptom, symptom))\n",
    "    if \"sideEffect\" in result:\n",
    "        g.add((drug, ex.hasSideEffect, side_effect))\n",
    "    if \"gene\" in result:\n",
    "        g.add((disease, ex.associatedGene, gene))\n",
    "\n",
    "# Serialize the graph to a TTL file\n",
    "g.serialize(destination='../data/medical_graph.ttl', format='ttl')"
   ]
  },
  {
   "cell_type": "code",
   "execution_count": 6,
   "id": "d56cc8e9240d6e3b",
   "metadata": {
    "ExecuteTime": {
     "end_time": "2024-03-27T21:12:46.127168Z",
     "start_time": "2024-03-27T21:12:45.994788Z"
    }
   },
   "outputs": [
    {
     "name": "stdout",
     "output_type": "stream",
     "text": [
      "Number of triples:  1873\n"
     ]
    }
   ],
   "source": [
    "#opening the files to use with the llm\n",
    "with open('../data/wikidata_drug_disease_schema.ttl', 'r') as file:\n",
    "    schema = file.read()\n",
    "    \n",
    "graph = Graph()\n",
    "graph = graph.parse(\"../data/medical_graph.ttl\")\n",
    "\n",
    "print(\"Number of triples: \", len(graph))"
   ]
  },
  {
   "cell_type": "code",
   "execution_count": 7,
   "id": "7be82a9bb3943d7f",
   "metadata": {
    "ExecuteTime": {
     "end_time": "2024-03-27T21:12:46.154387Z",
     "start_time": "2024-03-27T21:12:46.125091Z"
    }
   },
   "outputs": [],
   "source": [
    "llm = OpenAI(temperature=0)"
   ]
  },
  {
   "cell_type": "code",
   "execution_count": 8,
   "id": "bf55da9ace49a765",
   "metadata": {
    "ExecuteTime": {
     "end_time": "2024-03-27T21:12:46.155349Z",
     "start_time": "2024-03-27T21:12:46.147796Z"
    }
   },
   "outputs": [],
   "source": [
    "from langchain_core.prompts import ChatPromptTemplate\n",
    "\n",
    "# Create the memory object that is used to add messages\n",
    "memory = ConversationBufferMemory(\n",
    "    return_messages=True, output_key=\"answer\", input_key=\"question\"\n",
    ")\n",
    "# Add a \"memory\" key to the input object\n",
    "loaded_memory = RunnablePassthrough.assign(\n",
    "    chat_history=RunnableLambda(memory.load_memory_variables) | itemgetter(\"history\"),\n",
    ")\n",
    "\n",
    "# Prompt to reformulate the question using the chat history\n",
    "reform_template = \"\"\"Given the following chat history and a follow up question,\n",
    "rephrase the follow up question to be a standalone straightforward question, in its original language.\n",
    "Do not answer the question! Just rephrase reusing information from the chat history.\n",
    "\n",
    "Chat History:\n",
    "{chat_history}\n",
    "Follow up input:\n",
    "{question}\n",
    "\n",
    "Standalone question:\n",
    "\"\"\"\n",
    "REFORM_QUESTION_PROMPT = PromptTemplate.from_template(reform_template)\n",
    "\n",
    "breakdown_template = \"\"\" Given the following question, break it down to identify the known variables. Format it as follows:\n",
    "Variable Type --> Variable Name\n",
    "\n",
    "Lastly, identify what the question is looking for (including the name, if provided). Only use the information presented in the question, nothing else.\n",
    "\n",
    "Question:\n",
    "{question}\n",
    "\n",
    "Breakdown:\n",
    "\"\"\"\n",
    "BREAKDOWN_PROMPT = PromptTemplate.from_template(breakdown_template)\n",
    "\n",
    "# Prompt to ask to answer the reformulated question\n",
    "answer_template = \"\"\"Construct a valid SPARQL query based on the provided breakdown, ensuring that labels are compared in lowercase using LCASE and not directly added as triples.\n",
    "\n",
    "Based on the breakdown, the query should only retrieve the information we are looking for. Use the provided schema, although the query should not include everything!\n",
    "\n",
    "Schema:\n",
    "{schema}\n",
    "\n",
    "Breakdown:\n",
    "{breakdown}\n",
    "\n",
    "Query:\n",
    "\"\"\"\n",
    "ANSWER_PROMPT = ChatPromptTemplate.from_template(answer_template)"
   ]
  },
  {
   "cell_type": "code",
   "execution_count": 9,
   "id": "28518303c93282ec",
   "metadata": {
    "ExecuteTime": {
     "end_time": "2024-03-27T21:12:46.155892Z",
     "start_time": "2024-03-27T21:12:46.153377Z"
    }
   },
   "outputs": [],
   "source": [
    "# Reformulate the question using chat history\n",
    "reformulated_question = {\n",
    "    \"reformulated_question\": {\n",
    "        \"question\": lambda x: x[\"question\"],\n",
    "        \"chat_history\": lambda x: get_buffer_string(x[\"chat_history\"]),\n",
    "    }\n",
    "    | REFORM_QUESTION_PROMPT\n",
    "    | llm\n",
    "    | StrOutputParser(),\n",
    "}\n",
    "# Breakdown the question to identify what we are looking for and what we know\n",
    "question_breakdown = {\n",
    "    \"breakdown\" : {\n",
    "        \"question\": lambda x: print(\"💭 Reformulated question:\", x[\"reformulated_question\"]) or x[\"reformulated_question\"],\n",
    "    }\n",
    "    | BREAKDOWN_PROMPT\n",
    "    | llm\n",
    "    | StrOutputParser(),\n",
    "}\n",
    "final_inputs = {\n",
    "    \"schema\": lambda x: schema,\n",
    "    \"breakdown\": lambda x: print(\"💭 Question breakdown:\\n\", x[\"breakdown\"]) or x[\"breakdown\"],\n",
    "}\n",
    "answer = {\n",
    "    \"answer\": final_inputs | ANSWER_PROMPT | llm,\n",
    "}\n",
    "# Put the chain together\n",
    "final_chain = loaded_memory | reformulated_question | question_breakdown | answer\n",
    "\n",
    "def stream_chain(final_chain, memory: ConversationBufferMemory, inputs_list: list[dict[str, str]]) -> dict[str, Any]:\n",
    "    \"\"\"Ask questions, stream the answer output, and return the answers.\"\"\"\n",
    "    output = {\"answer\": []}\n",
    "    for inputs in inputs_list:\n",
    "        answer_output = \"\"\n",
    "        for chunk in final_chain.stream(inputs):\n",
    "            if \"answer\" in chunk:\n",
    "                answer_output += chunk[\"answer\"]\n",
    "                print(chunk[\"answer\"], end=\"\", flush=True)\n",
    "        \n",
    "        output[\"answer\"].append(answer_output)\n",
    "        # Add messages to chat history\n",
    "        memory.save_context(inputs, {\"answer\": answer_output})\n",
    "    \n",
    "    return output"
   ]
  },
  {
   "cell_type": "code",
   "execution_count": 10,
   "id": "678433e5606a55da",
   "metadata": {
    "ExecuteTime": {
     "end_time": "2024-03-27T21:12:46.367482Z",
     "start_time": "2024-03-27T21:12:46.159204Z"
    }
   },
   "outputs": [],
   "source": [
    "import pandas as pd\n",
    "\n",
    "from IPython.display import display, HTML\n",
    "from pygments import highlight\n",
    "from pygments.lexers import SparqlLexer\n",
    "from pygments.formatters import HtmlFormatter\n",
    "\n",
    "def run_query(graph, query, entity=None):\n",
    "    # Execute the SPARQL query\n",
    "    results = graph.query(query, initBindings={'entity': entity})\n",
    "    \n",
    "    # Display the SPARQL query\n",
    "    formatted_query = highlight(query, SparqlLexer(), HtmlFormatter(style='solarized-dark', full=True, nobackground=True))\n",
    "    display(HTML(formatted_query))\n",
    "    \n",
    "    # Convert results to a Pandas DataFrame\n",
    "    res_list = []\n",
    "    for row in results:\n",
    "        res_list.append([str(item) for item in row])\n",
    "    df = pd.DataFrame(res_list, columns=[str(var) for var in results.vars]) if len(res_list) > 0 else pd.DataFrame()\n",
    "\n",
    "    # Display the DataFrame as a table in Jupyter Notebook\n",
    "    display(HTML(df.to_html()))\n",
    "    \n",
    "    if len(df) > 1:\n",
    "        return df.iloc[0, 0]"
   ]
  },
  {
   "cell_type": "code",
   "outputs": [],
   "source": [
    "def get_uri_from_label(label, graph):\n",
    "    \"\"\"\n",
    "    Given a human-readable label and a graph, return the URI corresponding to the label.\n",
    "    If multiple URIs exist for a given label, this function returns the first match.\n",
    "    \"\"\"\n",
    "    sparql_query = \"\"\"\n",
    "    SELECT ?entity WHERE {\n",
    "        ?entity rdfs:label ?label .\n",
    "        FILTER (LCASE(STR(?label)) = LCASE(?input_label))\n",
    "    }\n",
    "    LIMIT 1\n",
    "    \"\"\"\n",
    "    query_result = graph.query(sparql_query, initBindings={'input_label': rdflib.Literal(label)})\n",
    "    for row in query_result:\n",
    "        return row[0]  # Return the first (and hopefully only) URI that matches the label\n",
    "    return None  # Return None if no matching URI is found"
   ],
   "metadata": {
    "collapsed": false,
    "ExecuteTime": {
     "end_time": "2024-03-27T21:12:46.371249Z",
     "start_time": "2024-03-27T21:12:46.367980Z"
    }
   },
   "id": "4f2db520aaf4b444",
   "execution_count": 11
  },
  {
   "cell_type": "code",
   "execution_count": 14,
   "id": "b10d641b",
   "metadata": {
    "ExecuteTime": {
     "end_time": "2024-03-27T21:33:17.351261Z",
     "start_time": "2024-03-27T21:33:17.343547Z"
    }
   },
   "outputs": [],
   "source": [
    "#To combine our multi-hop reasoning with our llm, we ask the llm two questions, and we try to find the link between them.\n",
    "\n",
    "import rdflib\n",
    "from rdflib.extras.external_graph_libs import rdflib_to_networkx_digraph\n",
    "\n",
    "def multi_hop_questioning(question1, question2, graph, final_chain, memory):\n",
    "    # now we have our questions ready, we find our answers\n",
    "    question1 = [\n",
    "            {\"question\" : question1},\n",
    "    ]\n",
    "    output1 = stream_chain(final_chain, memory, question1)\n",
    "    question2 = [\n",
    "            {\"question\": question2},\n",
    "    ]\n",
    "    output2 = stream_chain(final_chain, memory, question2)\n",
    "    \n",
    "    for answer_output in output1[\"answer\"]:\n",
    "        print(answer_output)\n",
    "        answer1 = run_query(graph, answer_output)\n",
    "        \n",
    "    for answer_output in output2[\"answer\"]:\n",
    "        print(answer_output)\n",
    "        answer2 = run_query(graph, answer_output)\n",
    "\n",
    "    dg = rdflib_to_networkx_digraph(graph)\n",
    "    \n",
    "    query_entity = get_uri_from_label(answer1, graph)\n",
    "    target_relation = get_uri_from_label(answer2, graph)\n",
    "    \n",
    "    visited = set()\n",
    "    queue = [(query_entity, [])]  # Start with the query entity and an empty relation path\n",
    "    while queue:\n",
    "        entity, relation_path = queue.pop(0)\n",
    "        if entity == target_relation:\n",
    "            return relation_path\n",
    "        if entity not in visited:\n",
    "            visited.add(entity)\n",
    "            for neighbor in dg.neighbors(entity):\n",
    "                new_path = relation_path + [(entity, neighbor)]\n",
    "                queue.append((neighbor, new_path))\n",
    "    return None"
   ]
  },
  {
   "cell_type": "code",
   "execution_count": 15,
   "id": "b542f35e",
   "metadata": {
    "ExecuteTime": {
     "end_time": "2024-03-27T21:51:47.617629Z",
     "start_time": "2024-03-27T21:33:19.140506Z"
    }
   },
   "outputs": [
    {
     "name": "stdout",
     "output_type": "stream",
     "text": [
      "💭 Reformulated question: What disease is associated with the symptom 'vomiting'?\n",
      "💭 Question breakdown:\n",
      " \n",
      "Known Variables:\n",
      "- Symptom --> 'vomiting'\n",
      "\n",
      "Question Looking For:\n",
      "- Disease\n",
      "PREFIX ns1: <https://www.example.org/>\n",
      "PREFIX rdfs: <http://www.w3.org/2000/01/rdf-schema#>\n",
      "PREFIX wd: <http://www.wikidata.org/entity/>\n",
      "\n",
      "SELECT ?disease_label\n",
      "WHERE {\n",
      "    ?drug_uri a ns1:Drug ;\n",
      "        rdfs:label ?drug_label ;\n",
      "        ns1:treats ?disease_uri .\n",
      "    ?disease_uri a ns1:Disease ;\n",
      "        rdfs:label ?disease_label ;\n",
      "        ns1:hasSymptom ?symptom_uri ;\n",
      "        ns1:hasCause ?cause_uri .\n",
      "    ?symptom_uri a ns1:Symptom ;\n",
      "        rdfs:label ?symptom_label ;\n",
      "        ns1:hasCause ?cause_uri .\n",
      "    ?cause_uri a ns1:Cause ;\n",
      "        rdfs:label ?cause_label .\n",
      "    FILTER (LCASE(?symptom_label) = \"vomiting\")\n",
      "}💭 Reformulated question: What disease is caused by alcoholism?\n",
      "💭 Question breakdown:\n",
      " \n",
      "Known Variables:\n",
      "- Variable Type: Disease\n",
      "- Variable Name: Unknown\n",
      "\n",
      "Question is looking for:\n",
      "- Name of the disease caused by alcoholism\n",
      "PREFIX ns1: <https://www.example.org/>\n",
      "PREFIX rdfs: <http://www.w3.org/2000/01/rdf-schema#>\n",
      "PREFIX wd: <http://www.wikidata.org/entity/>\n",
      "\n",
      "SELECT LCASE(?disease_label) AS ?disease_name\n",
      "WHERE {\n",
      "    ?disease_uri a ns1:Disease ;\n",
      "        rdfs:label ?disease_label ;\n",
      "        ns1:hasCause ?cause_uri .\n",
      "    ?cause_uri a ns1:Cause ;\n",
      "        rdfs:label \"alcoholism\"^^xsd:string .\n",
      "}PREFIX ns1: <https://www.example.org/>\n",
      "PREFIX rdfs: <http://www.w3.org/2000/01/rdf-schema#>\n",
      "PREFIX wd: <http://www.wikidata.org/entity/>\n",
      "\n",
      "SELECT ?disease_label\n",
      "WHERE {\n",
      "    ?drug_uri a ns1:Drug ;\n",
      "        rdfs:label ?drug_label ;\n",
      "        ns1:treats ?disease_uri .\n",
      "    ?disease_uri a ns1:Disease ;\n",
      "        rdfs:label ?disease_label ;\n",
      "        ns1:hasSymptom ?symptom_uri ;\n",
      "        ns1:hasCause ?cause_uri .\n",
      "    ?symptom_uri a ns1:Symptom ;\n",
      "        rdfs:label ?symptom_label ;\n",
      "        ns1:hasCause ?cause_uri .\n",
      "    ?cause_uri a ns1:Cause ;\n",
      "        rdfs:label ?cause_label .\n",
      "    FILTER (LCASE(?symptom_label) = \"vomiting\")\n",
      "}\n"
     ]
    },
    {
     "data": {
      "text/plain": "<IPython.core.display.HTML object>",
      "text/html": "<!DOCTYPE html PUBLIC \"-//W3C//DTD HTML 4.01//EN\"\n   \"http://www.w3.org/TR/html4/strict.dtd\">\n<!--\ngenerated by Pygments <https://pygments.org/>\nCopyright 2006-2023 by the Pygments team.\nLicensed under the BSD license, see LICENSE for details.\n-->\n<html>\n<head>\n  <title></title>\n  <meta http-equiv=\"content-type\" content=\"text/html; charset=None\">\n  <style type=\"text/css\">\n/*\ngenerated by Pygments <https://pygments.org/>\nCopyright 2006-2023 by the Pygments team.\nLicensed under the BSD license, see LICENSE for details.\n*/\npre { line-height: 125%; }\ntd.linenos .normal { color: #586e75; background-color: #073642; padding-left: 5px; padding-right: 5px; }\nspan.linenos { color: #586e75; background-color: #073642; padding-left: 5px; padding-right: 5px; }\ntd.linenos .special { color: #000000; background-color: #ffffc0; padding-left: 5px; padding-right: 5px; }\nspan.linenos.special { color: #000000; background-color: #ffffc0; padding-left: 5px; padding-right: 5px; }\nbody .hll { background-color: #073642 }\nbody .c { color: #586e75; font-style: italic } /* Comment */\nbody .err { color: #839496; background-color: #dc322f } /* Error */\nbody .esc { color: #839496 } /* Escape */\nbody .g { color: #839496 } /* Generic */\nbody .k { color: #859900 } /* Keyword */\nbody .l { color: #839496 } /* Literal */\nbody .n { color: #839496 } /* Name */\nbody .o { color: #586e75 } /* Operator */\nbody .x { color: #839496 } /* Other */\nbody .p { color: #839496 } /* Punctuation */\nbody .ch { color: #586e75; font-style: italic } /* Comment.Hashbang */\nbody .cm { color: #586e75; font-style: italic } /* Comment.Multiline */\nbody .cp { color: #d33682 } /* Comment.Preproc */\nbody .cpf { color: #586e75 } /* Comment.PreprocFile */\nbody .c1 { color: #586e75; font-style: italic } /* Comment.Single */\nbody .cs { color: #586e75; font-style: italic } /* Comment.Special */\nbody .gd { color: #dc322f } /* Generic.Deleted */\nbody .ge { color: #839496; font-style: italic } /* Generic.Emph */\nbody .gr { color: #dc322f } /* Generic.Error */\nbody .gh { color: #839496; font-weight: bold } /* Generic.Heading */\nbody .gi { color: #859900 } /* Generic.Inserted */\nbody .go { color: #839496 } /* Generic.Output */\nbody .gp { color: #268bd2; font-weight: bold } /* Generic.Prompt */\nbody .gs { color: #839496; font-weight: bold } /* Generic.Strong */\nbody .gu { color: #839496; text-decoration: underline } /* Generic.Subheading */\nbody .gt { color: #268bd2 } /* Generic.Traceback */\nbody .kc { color: #2aa198 } /* Keyword.Constant */\nbody .kd { color: #2aa198 } /* Keyword.Declaration */\nbody .kn { color: #cb4b16 } /* Keyword.Namespace */\nbody .kp { color: #859900 } /* Keyword.Pseudo */\nbody .kr { color: #859900 } /* Keyword.Reserved */\nbody .kt { color: #b58900 } /* Keyword.Type */\nbody .ld { color: #839496 } /* Literal.Date */\nbody .m { color: #2aa198 } /* Literal.Number */\nbody .s { color: #2aa198 } /* Literal.String */\nbody .na { color: #839496 } /* Name.Attribute */\nbody .nb { color: #268bd2 } /* Name.Builtin */\nbody .nc { color: #268bd2 } /* Name.Class */\nbody .no { color: #268bd2 } /* Name.Constant */\nbody .nd { color: #268bd2 } /* Name.Decorator */\nbody .ni { color: #268bd2 } /* Name.Entity */\nbody .ne { color: #268bd2 } /* Name.Exception */\nbody .nf { color: #268bd2 } /* Name.Function */\nbody .nl { color: #268bd2 } /* Name.Label */\nbody .nn { color: #268bd2 } /* Name.Namespace */\nbody .nx { color: #839496 } /* Name.Other */\nbody .py { color: #839496 } /* Name.Property */\nbody .nt { color: #268bd2 } /* Name.Tag */\nbody .nv { color: #268bd2 } /* Name.Variable */\nbody .ow { color: #859900 } /* Operator.Word */\nbody .pm { color: #839496 } /* Punctuation.Marker */\nbody .w { color: #839496 } /* Text.Whitespace */\nbody .mb { color: #2aa198 } /* Literal.Number.Bin */\nbody .mf { color: #2aa198 } /* Literal.Number.Float */\nbody .mh { color: #2aa198 } /* Literal.Number.Hex */\nbody .mi { color: #2aa198 } /* Literal.Number.Integer */\nbody .mo { color: #2aa198 } /* Literal.Number.Oct */\nbody .sa { color: #2aa198 } /* Literal.String.Affix */\nbody .sb { color: #2aa198 } /* Literal.String.Backtick */\nbody .sc { color: #2aa198 } /* Literal.String.Char */\nbody .dl { color: #2aa198 } /* Literal.String.Delimiter */\nbody .sd { color: #586e75 } /* Literal.String.Doc */\nbody .s2 { color: #2aa198 } /* Literal.String.Double */\nbody .se { color: #2aa198 } /* Literal.String.Escape */\nbody .sh { color: #2aa198 } /* Literal.String.Heredoc */\nbody .si { color: #2aa198 } /* Literal.String.Interpol */\nbody .sx { color: #2aa198 } /* Literal.String.Other */\nbody .sr { color: #cb4b16 } /* Literal.String.Regex */\nbody .s1 { color: #2aa198 } /* Literal.String.Single */\nbody .ss { color: #2aa198 } /* Literal.String.Symbol */\nbody .bp { color: #268bd2 } /* Name.Builtin.Pseudo */\nbody .fm { color: #268bd2 } /* Name.Function.Magic */\nbody .vc { color: #268bd2 } /* Name.Variable.Class */\nbody .vg { color: #268bd2 } /* Name.Variable.Global */\nbody .vi { color: #268bd2 } /* Name.Variable.Instance */\nbody .vm { color: #268bd2 } /* Name.Variable.Magic */\nbody .il { color: #2aa198 } /* Literal.Number.Integer.Long */\n\n  </style>\n</head>\n<body>\n<h2></h2>\n\n<div class=\"highlight\"><pre><span></span><span class=\"k\">PREFIX</span> <span class=\"nn\">ns1</span><span class=\"p\">:</span> <span class=\"nl\">&lt;https://www.example.org/&gt;</span>\n<span class=\"k\">PREFIX</span> <span class=\"nn\">rdfs</span><span class=\"p\">:</span> <span class=\"nl\">&lt;http://www.w3.org/2000/01/rdf-schema#&gt;</span>\n<span class=\"k\">PREFIX</span> <span class=\"nn\">wd</span><span class=\"p\">:</span> <span class=\"nl\">&lt;http://www.wikidata.org/entity/&gt;</span>\n\n<span class=\"k\">SELECT</span> <span class=\"nv\">?disease_label</span>\n<span class=\"k\">WHERE</span> <span class=\"p\">{</span>\n    <span class=\"nv\">?drug_uri</span> <span class=\"k\">a</span> <span class=\"nn\">ns1</span><span class=\"p\">:</span><span class=\"nt\">Drug</span> <span class=\"p\">;</span>\n        <span class=\"nn\">rdfs</span><span class=\"p\">:</span><span class=\"nt\">label</span> <span class=\"nv\">?drug_label</span> <span class=\"p\">;</span>\n        <span class=\"nn\">ns1</span><span class=\"p\">:</span><span class=\"nt\">treats</span> <span class=\"nv\">?disease_uri</span> <span class=\"p\">.</span>\n    <span class=\"nv\">?disease_uri</span> <span class=\"k\">a</span> <span class=\"nn\">ns1</span><span class=\"p\">:</span><span class=\"nt\">Disease</span> <span class=\"p\">;</span>\n        <span class=\"nn\">rdfs</span><span class=\"p\">:</span><span class=\"nt\">label</span> <span class=\"nv\">?disease_label</span> <span class=\"p\">;</span>\n        <span class=\"nn\">ns1</span><span class=\"p\">:</span><span class=\"nt\">hasSymptom</span> <span class=\"nv\">?symptom_uri</span> <span class=\"p\">;</span>\n        <span class=\"nn\">ns1</span><span class=\"p\">:</span><span class=\"nt\">hasCause</span> <span class=\"nv\">?cause_uri</span> <span class=\"p\">.</span>\n    <span class=\"nv\">?symptom_uri</span> <span class=\"k\">a</span> <span class=\"nn\">ns1</span><span class=\"p\">:</span><span class=\"nt\">Symptom</span> <span class=\"p\">;</span>\n        <span class=\"nn\">rdfs</span><span class=\"p\">:</span><span class=\"nt\">label</span> <span class=\"nv\">?symptom_label</span> <span class=\"p\">;</span>\n        <span class=\"nn\">ns1</span><span class=\"p\">:</span><span class=\"nt\">hasCause</span> <span class=\"nv\">?cause_uri</span> <span class=\"p\">.</span>\n    <span class=\"nv\">?cause_uri</span> <span class=\"k\">a</span> <span class=\"nn\">ns1</span><span class=\"p\">:</span><span class=\"nt\">Cause</span> <span class=\"p\">;</span>\n        <span class=\"nn\">rdfs</span><span class=\"p\">:</span><span class=\"nt\">label</span> <span class=\"nv\">?cause_label</span> <span class=\"p\">.</span>\n    <span class=\"k\">FILTER</span> <span class=\"p\">(</span><span class=\"nf\">LCASE</span><span class=\"p\">(</span><span class=\"nv\">?symptom_label</span><span class=\"p\">)</span> <span class=\"o\">=</span> <span class=\"s\">&quot;vomiting&quot;</span><span class=\"p\">)</span>\n<span class=\"p\">}</span>\n</pre></div>\n</body>\n</html>\n"
     },
     "metadata": {},
     "output_type": "display_data"
    },
    {
     "ename": "KeyboardInterrupt",
     "evalue": "",
     "output_type": "error",
     "traceback": [
      "\u001B[0;31m---------------------------------------------------------------------------\u001B[0m",
      "\u001B[0;31mKeyboardInterrupt\u001B[0m                         Traceback (most recent call last)",
      "Cell \u001B[0;32mIn[15], line 4\u001B[0m\n\u001B[1;32m      1\u001B[0m q1 \u001B[38;5;241m=\u001B[39m \u001B[38;5;124m\"\u001B[39m\u001B[38;5;124mWhat disease has as a symptom \u001B[39m\u001B[38;5;124m'\u001B[39m\u001B[38;5;124mvomiting\u001B[39m\u001B[38;5;124m'\u001B[39m\u001B[38;5;124m?\u001B[39m\u001B[38;5;124m\"\u001B[39m\n\u001B[1;32m      2\u001B[0m q2 \u001B[38;5;241m=\u001B[39m \u001B[38;5;124m\"\u001B[39m\u001B[38;5;124mWhat disease is caused by \u001B[39m\u001B[38;5;124m'\u001B[39m\u001B[38;5;124malcoholism\u001B[39m\u001B[38;5;124m'\u001B[39m\u001B[38;5;124m?\u001B[39m\u001B[38;5;124m\"\u001B[39m\n\u001B[0;32m----> 4\u001B[0m x \u001B[38;5;241m=\u001B[39m multi_hop_questioning(q1, q2, graph, final_chain, memory)\n",
      "Cell \u001B[0;32mIn[14], line 19\u001B[0m, in \u001B[0;36mmulti_hop_questioning\u001B[0;34m(question1, question2, graph, final_chain, memory)\u001B[0m\n\u001B[1;32m     17\u001B[0m \u001B[38;5;28;01mfor\u001B[39;00m answer_output \u001B[38;5;129;01min\u001B[39;00m output1[\u001B[38;5;124m\"\u001B[39m\u001B[38;5;124manswer\u001B[39m\u001B[38;5;124m\"\u001B[39m]:\n\u001B[1;32m     18\u001B[0m     \u001B[38;5;28mprint\u001B[39m(answer_output)\n\u001B[0;32m---> 19\u001B[0m     answer1 \u001B[38;5;241m=\u001B[39m run_query(graph, answer_output)\n\u001B[1;32m     21\u001B[0m \u001B[38;5;28;01mfor\u001B[39;00m answer_output \u001B[38;5;129;01min\u001B[39;00m output2[\u001B[38;5;124m\"\u001B[39m\u001B[38;5;124manswer\u001B[39m\u001B[38;5;124m\"\u001B[39m]:\n\u001B[1;32m     22\u001B[0m     \u001B[38;5;28mprint\u001B[39m(answer_output)\n",
      "Cell \u001B[0;32mIn[10], line 18\u001B[0m, in \u001B[0;36mrun_query\u001B[0;34m(graph, query, entity)\u001B[0m\n\u001B[1;32m     16\u001B[0m \u001B[38;5;66;03m# Convert results to a Pandas DataFrame\u001B[39;00m\n\u001B[1;32m     17\u001B[0m res_list \u001B[38;5;241m=\u001B[39m []\n\u001B[0;32m---> 18\u001B[0m \u001B[38;5;28;01mfor\u001B[39;00m row \u001B[38;5;129;01min\u001B[39;00m results:\n\u001B[1;32m     19\u001B[0m     res_list\u001B[38;5;241m.\u001B[39mappend([\u001B[38;5;28mstr\u001B[39m(item) \u001B[38;5;28;01mfor\u001B[39;00m item \u001B[38;5;129;01min\u001B[39;00m row])\n\u001B[1;32m     20\u001B[0m df \u001B[38;5;241m=\u001B[39m pd\u001B[38;5;241m.\u001B[39mDataFrame(res_list, columns\u001B[38;5;241m=\u001B[39m[\u001B[38;5;28mstr\u001B[39m(var) \u001B[38;5;28;01mfor\u001B[39;00m var \u001B[38;5;129;01min\u001B[39;00m results\u001B[38;5;241m.\u001B[39mvars]) \u001B[38;5;28;01mif\u001B[39;00m \u001B[38;5;28mlen\u001B[39m(res_list) \u001B[38;5;241m>\u001B[39m \u001B[38;5;241m0\u001B[39m \u001B[38;5;28;01melse\u001B[39;00m pd\u001B[38;5;241m.\u001B[39mDataFrame()\n",
      "File \u001B[0;32m/usr/local/Caskroom/miniconda/base/lib/python3.11/site-packages/rdflib/query.py:373\u001B[0m, in \u001B[0;36mResult.__iter__\u001B[0;34m(self)\u001B[0m\n\u001B[1;32m    369\u001B[0m \u001B[38;5;28;01melif\u001B[39;00m \u001B[38;5;28mself\u001B[39m\u001B[38;5;241m.\u001B[39mtype \u001B[38;5;241m==\u001B[39m \u001B[38;5;124m\"\u001B[39m\u001B[38;5;124mSELECT\u001B[39m\u001B[38;5;124m\"\u001B[39m:\n\u001B[1;32m    370\u001B[0m     \u001B[38;5;66;03m# this iterates over ResultRows of variable bindings\u001B[39;00m\n\u001B[1;32m    372\u001B[0m     \u001B[38;5;28;01mif\u001B[39;00m \u001B[38;5;28mself\u001B[39m\u001B[38;5;241m.\u001B[39m_genbindings:\n\u001B[0;32m--> 373\u001B[0m         \u001B[38;5;28;01mfor\u001B[39;00m b \u001B[38;5;129;01min\u001B[39;00m \u001B[38;5;28mself\u001B[39m\u001B[38;5;241m.\u001B[39m_genbindings:\n\u001B[1;32m    374\u001B[0m             \u001B[38;5;28;01mif\u001B[39;00m b:  \u001B[38;5;66;03m# don't add a result row in case of empty binding {}\u001B[39;00m\n\u001B[1;32m    375\u001B[0m                 \u001B[38;5;28mself\u001B[39m\u001B[38;5;241m.\u001B[39m_bindings\u001B[38;5;241m.\u001B[39mappend(b)\n",
      "File \u001B[0;32m/usr/local/Caskroom/miniconda/base/lib/python3.11/site-packages/rdflib/plugins/sparql/evaluate.py:562\u001B[0m, in \u001B[0;36m<genexpr>\u001B[0;34m(.0)\u001B[0m\n\u001B[1;32m    560\u001B[0m \u001B[38;5;28;01mdef\u001B[39;00m \u001B[38;5;21mevalProject\u001B[39m(ctx: QueryContext, project: CompValue):\n\u001B[1;32m    561\u001B[0m     res \u001B[38;5;241m=\u001B[39m evalPart(ctx, project\u001B[38;5;241m.\u001B[39mp)\n\u001B[0;32m--> 562\u001B[0m     \u001B[38;5;28;01mreturn\u001B[39;00m (row\u001B[38;5;241m.\u001B[39mproject(project\u001B[38;5;241m.\u001B[39mPV) \u001B[38;5;28;01mfor\u001B[39;00m row \u001B[38;5;129;01min\u001B[39;00m res)\n",
      "File \u001B[0;32m/usr/local/Caskroom/miniconda/base/lib/python3.11/site-packages/rdflib/plugins/sparql/evaluate.py:204\u001B[0m, in \u001B[0;36mevalFilter\u001B[0;34m(ctx, part)\u001B[0m\n\u001B[1;32m    200\u001B[0m \u001B[38;5;28;01mdef\u001B[39;00m \u001B[38;5;21mevalFilter\u001B[39m(\n\u001B[1;32m    201\u001B[0m     ctx: QueryContext, part: CompValue\n\u001B[1;32m    202\u001B[0m ) \u001B[38;5;241m-\u001B[39m\u001B[38;5;241m>\u001B[39m Generator[FrozenBindings, \u001B[38;5;28;01mNone\u001B[39;00m, \u001B[38;5;28;01mNone\u001B[39;00m]:\n\u001B[1;32m    203\u001B[0m     \u001B[38;5;66;03m# TODO: Deal with dict returned from evalPart!\u001B[39;00m\n\u001B[0;32m--> 204\u001B[0m     \u001B[38;5;28;01mfor\u001B[39;00m c \u001B[38;5;129;01min\u001B[39;00m evalPart(ctx, part\u001B[38;5;241m.\u001B[39mp):\n\u001B[1;32m    205\u001B[0m         \u001B[38;5;28;01mif\u001B[39;00m _ebv(\n\u001B[1;32m    206\u001B[0m             part\u001B[38;5;241m.\u001B[39mexpr,\n\u001B[1;32m    207\u001B[0m             c\u001B[38;5;241m.\u001B[39mforget(ctx, _except\u001B[38;5;241m=\u001B[39mpart\u001B[38;5;241m.\u001B[39m_vars) \u001B[38;5;28;01mif\u001B[39;00m \u001B[38;5;129;01mnot\u001B[39;00m part\u001B[38;5;241m.\u001B[39mno_isolated_scope \u001B[38;5;28;01melse\u001B[39;00m c,\n\u001B[1;32m    208\u001B[0m         ):\n\u001B[1;32m    209\u001B[0m             \u001B[38;5;28;01myield\u001B[39;00m c\n",
      "File \u001B[0;32m/usr/local/Caskroom/miniconda/base/lib/python3.11/site-packages/rdflib/plugins/sparql/evaluate.py:112\u001B[0m, in \u001B[0;36mevalBGP\u001B[0;34m(ctx, bgp)\u001B[0m\n\u001B[1;32m    109\u001B[0m \u001B[38;5;28;01mexcept\u001B[39;00m AlreadyBound:\n\u001B[1;32m    110\u001B[0m     \u001B[38;5;28;01mcontinue\u001B[39;00m\n\u001B[0;32m--> 112\u001B[0m \u001B[38;5;28;01mfor\u001B[39;00m x \u001B[38;5;129;01min\u001B[39;00m evalBGP(c, bgp[\u001B[38;5;241m1\u001B[39m:]):\n\u001B[1;32m    113\u001B[0m     \u001B[38;5;28;01myield\u001B[39;00m x\n",
      "File \u001B[0;32m/usr/local/Caskroom/miniconda/base/lib/python3.11/site-packages/rdflib/plugins/sparql/evaluate.py:112\u001B[0m, in \u001B[0;36mevalBGP\u001B[0;34m(ctx, bgp)\u001B[0m\n\u001B[1;32m    109\u001B[0m \u001B[38;5;28;01mexcept\u001B[39;00m AlreadyBound:\n\u001B[1;32m    110\u001B[0m     \u001B[38;5;28;01mcontinue\u001B[39;00m\n\u001B[0;32m--> 112\u001B[0m \u001B[38;5;28;01mfor\u001B[39;00m x \u001B[38;5;129;01min\u001B[39;00m evalBGP(c, bgp[\u001B[38;5;241m1\u001B[39m:]):\n\u001B[1;32m    113\u001B[0m     \u001B[38;5;28;01myield\u001B[39;00m x\n",
      "File \u001B[0;32m/usr/local/Caskroom/miniconda/base/lib/python3.11/site-packages/rdflib/plugins/sparql/evaluate.py:112\u001B[0m, in \u001B[0;36mevalBGP\u001B[0;34m(ctx, bgp)\u001B[0m\n\u001B[1;32m    109\u001B[0m \u001B[38;5;28;01mexcept\u001B[39;00m AlreadyBound:\n\u001B[1;32m    110\u001B[0m     \u001B[38;5;28;01mcontinue\u001B[39;00m\n\u001B[0;32m--> 112\u001B[0m \u001B[38;5;28;01mfor\u001B[39;00m x \u001B[38;5;129;01min\u001B[39;00m evalBGP(c, bgp[\u001B[38;5;241m1\u001B[39m:]):\n\u001B[1;32m    113\u001B[0m     \u001B[38;5;28;01myield\u001B[39;00m x\n",
      "File \u001B[0;32m/usr/local/Caskroom/miniconda/base/lib/python3.11/site-packages/rdflib/plugins/sparql/evaluate.py:90\u001B[0m, in \u001B[0;36mevalBGP\u001B[0;34m(ctx, bgp)\u001B[0m\n\u001B[1;32m     88\u001B[0m \u001B[38;5;28;01mfor\u001B[39;00m ss, sp, so \u001B[38;5;129;01min\u001B[39;00m ctx\u001B[38;5;241m.\u001B[39mgraph\u001B[38;5;241m.\u001B[39mtriples((_s, _p, _o)):  \u001B[38;5;66;03m# type: ignore[union-attr, arg-type]\u001B[39;00m\n\u001B[1;32m     89\u001B[0m     \u001B[38;5;28;01mif\u001B[39;00m \u001B[38;5;28;01mNone\u001B[39;00m \u001B[38;5;129;01min\u001B[39;00m (_s, _p, _o):\n\u001B[0;32m---> 90\u001B[0m         c \u001B[38;5;241m=\u001B[39m ctx\u001B[38;5;241m.\u001B[39mpush()\n\u001B[1;32m     91\u001B[0m     \u001B[38;5;28;01melse\u001B[39;00m:\n\u001B[1;32m     92\u001B[0m         c \u001B[38;5;241m=\u001B[39m ctx\n",
      "File \u001B[0;32m/usr/local/Caskroom/miniconda/base/lib/python3.11/site-packages/rdflib/plugins/sparql/sparql.py:396\u001B[0m, in \u001B[0;36mQueryContext.push\u001B[0;34m(self)\u001B[0m\n\u001B[1;32m    395\u001B[0m \u001B[38;5;28;01mdef\u001B[39;00m \u001B[38;5;21mpush\u001B[39m(\u001B[38;5;28mself\u001B[39m) \u001B[38;5;241m-\u001B[39m\u001B[38;5;241m>\u001B[39m \u001B[38;5;124m\"\u001B[39m\u001B[38;5;124mQueryContext\u001B[39m\u001B[38;5;124m\"\u001B[39m:\n\u001B[0;32m--> 396\u001B[0m     r \u001B[38;5;241m=\u001B[39m \u001B[38;5;28mself\u001B[39m\u001B[38;5;241m.\u001B[39mclone(Bindings(\u001B[38;5;28mself\u001B[39m\u001B[38;5;241m.\u001B[39mbindings))\n\u001B[1;32m    397\u001B[0m     \u001B[38;5;28;01mreturn\u001B[39;00m r\n",
      "File \u001B[0;32m/usr/local/Caskroom/miniconda/base/lib/python3.11/site-packages/rdflib/plugins/sparql/sparql.py:293\u001B[0m, in \u001B[0;36mQueryContext.clone\u001B[0;34m(self, bindings)\u001B[0m\n\u001B[1;32m    290\u001B[0m \u001B[38;5;28;01mdef\u001B[39;00m \u001B[38;5;21mclone\u001B[39m(\n\u001B[1;32m    291\u001B[0m     \u001B[38;5;28mself\u001B[39m, bindings: Optional[Union[FrozenBindings, Bindings, List[Any]]] \u001B[38;5;241m=\u001B[39m \u001B[38;5;28;01mNone\u001B[39;00m\n\u001B[1;32m    292\u001B[0m ) \u001B[38;5;241m-\u001B[39m\u001B[38;5;241m>\u001B[39m \u001B[38;5;124m\"\u001B[39m\u001B[38;5;124mQueryContext\u001B[39m\u001B[38;5;124m\"\u001B[39m:\n\u001B[0;32m--> 293\u001B[0m     r \u001B[38;5;241m=\u001B[39m QueryContext(\n\u001B[1;32m    294\u001B[0m         \u001B[38;5;28mself\u001B[39m\u001B[38;5;241m.\u001B[39m_dataset \u001B[38;5;28;01mif\u001B[39;00m \u001B[38;5;28mself\u001B[39m\u001B[38;5;241m.\u001B[39m_dataset \u001B[38;5;129;01mis\u001B[39;00m \u001B[38;5;129;01mnot\u001B[39;00m \u001B[38;5;28;01mNone\u001B[39;00m \u001B[38;5;28;01melse\u001B[39;00m \u001B[38;5;28mself\u001B[39m\u001B[38;5;241m.\u001B[39mgraph,\n\u001B[1;32m    295\u001B[0m         bindings \u001B[38;5;129;01mor\u001B[39;00m \u001B[38;5;28mself\u001B[39m\u001B[38;5;241m.\u001B[39mbindings,\n\u001B[1;32m    296\u001B[0m         initBindings\u001B[38;5;241m=\u001B[39m\u001B[38;5;28mself\u001B[39m\u001B[38;5;241m.\u001B[39minitBindings,\n\u001B[1;32m    297\u001B[0m     )\n\u001B[1;32m    298\u001B[0m     r\u001B[38;5;241m.\u001B[39mprologue \u001B[38;5;241m=\u001B[39m \u001B[38;5;28mself\u001B[39m\u001B[38;5;241m.\u001B[39mprologue\n\u001B[1;32m    299\u001B[0m     r\u001B[38;5;241m.\u001B[39mgraph \u001B[38;5;241m=\u001B[39m \u001B[38;5;28mself\u001B[39m\u001B[38;5;241m.\u001B[39mgraph\n",
      "File \u001B[0;32m/usr/local/Caskroom/miniconda/base/lib/python3.11/site-packages/rdflib/plugins/sparql/sparql.py:263\u001B[0m, in \u001B[0;36mQueryContext.__init__\u001B[0;34m(self, graph, bindings, initBindings)\u001B[0m\n\u001B[1;32m    261\u001B[0m \u001B[38;5;28mself\u001B[39m\u001B[38;5;241m.\u001B[39mbindings \u001B[38;5;241m=\u001B[39m Bindings(d\u001B[38;5;241m=\u001B[39mbindings \u001B[38;5;129;01mor\u001B[39;00m [])\n\u001B[1;32m    262\u001B[0m \u001B[38;5;28;01mif\u001B[39;00m initBindings:\n\u001B[0;32m--> 263\u001B[0m     \u001B[38;5;28mself\u001B[39m\u001B[38;5;241m.\u001B[39mbindings\u001B[38;5;241m.\u001B[39mupdate(initBindings)\n\u001B[1;32m    265\u001B[0m \u001B[38;5;28mself\u001B[39m\u001B[38;5;241m.\u001B[39mgraph: Optional[Graph]\n\u001B[1;32m    266\u001B[0m \u001B[38;5;28mself\u001B[39m\u001B[38;5;241m.\u001B[39m_dataset: Optional[ConjunctiveGraph]\n",
      "File \u001B[0;32m<frozen _collections_abc>:949\u001B[0m, in \u001B[0;36mupdate\u001B[0;34m(self, other, **kwds)\u001B[0m\n",
      "File \u001B[0;32m/usr/local/Caskroom/miniconda/base/lib/python3.11/site-packages/rdflib/plugins/sparql/sparql.py:89\u001B[0m, in \u001B[0;36mBindings.__setitem__\u001B[0;34m(self, key, value)\u001B[0m\n\u001B[1;32m     86\u001B[0m     \u001B[38;5;28;01mexcept\u001B[39;00m \u001B[38;5;167;01mKeyError\u001B[39;00m:\n\u001B[1;32m     87\u001B[0m         \u001B[38;5;28;01mreturn\u001B[39;00m \u001B[38;5;28;01mFalse\u001B[39;00m\n\u001B[0;32m---> 89\u001B[0m \u001B[38;5;28;01mdef\u001B[39;00m \u001B[38;5;21m__setitem__\u001B[39m(\u001B[38;5;28mself\u001B[39m, key: \u001B[38;5;28mstr\u001B[39m, value: Any) \u001B[38;5;241m-\u001B[39m\u001B[38;5;241m>\u001B[39m \u001B[38;5;28;01mNone\u001B[39;00m:\n\u001B[1;32m     90\u001B[0m     \u001B[38;5;28mself\u001B[39m\u001B[38;5;241m.\u001B[39m_d[key] \u001B[38;5;241m=\u001B[39m value\n\u001B[1;32m     92\u001B[0m \u001B[38;5;28;01mdef\u001B[39;00m \u001B[38;5;21m__delitem__\u001B[39m(\u001B[38;5;28mself\u001B[39m, key: \u001B[38;5;28mstr\u001B[39m) \u001B[38;5;241m-\u001B[39m\u001B[38;5;241m>\u001B[39m \u001B[38;5;28;01mNone\u001B[39;00m:\n",
      "\u001B[0;31mKeyboardInterrupt\u001B[0m: "
     ]
    }
   ],
   "source": [
    "q1 = \"What disease has as a symptom 'vomiting'?\"\n",
    "q2 = \"What disease is caused by 'alcoholism'?\"\n",
    "\n",
    "x = multi_hop_questioning(q1, q2, graph, final_chain, memory)"
   ]
  },
  {
   "cell_type": "code",
   "execution_count": null,
   "id": "ea9f77d8",
   "metadata": {
    "ExecuteTime": {
     "start_time": "2024-03-27T21:51:47.617161Z"
    }
   },
   "outputs": [],
   "source": [
    "print(x)"
   ]
  }
 ],
 "metadata": {
  "kernelspec": {
   "display_name": "Python 3 (ipykernel)",
   "language": "python",
   "name": "python3"
  },
  "language_info": {
   "codemirror_mode": {
    "name": "ipython",
    "version": 3
   },
   "file_extension": ".py",
   "mimetype": "text/x-python",
   "name": "python",
   "nbconvert_exporter": "python",
   "pygments_lexer": "ipython3",
   "version": "3.11.5"
  }
 },
 "nbformat": 4,
 "nbformat_minor": 5
}
